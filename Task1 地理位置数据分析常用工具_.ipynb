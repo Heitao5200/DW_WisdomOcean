{
 "cells": [
  {
   "cell_type": "markdown",
   "metadata": {
    "ExecuteTime": {
     "end_time": "2021-04-11T14:03:26.513622Z",
     "start_time": "2021-04-11T14:03:26.465362Z"
    }
   },
   "source": [
    "# 智慧海洋建设-地理数据分析常用工具"
   ]
  },
  {
   "cell_type": "markdown",
   "metadata": {
    "ExecuteTime": {
     "end_time": "2021-04-12T12:34:51.901095Z",
     "start_time": "2021-04-12T12:34:51.896812Z"
    }
   },
   "source": [
    "## 学习目标\n",
    "- 了解和学习shapely和geopandas的基本功能，掌握用python中的这两个库实现几何对象之间的空间操作方法。\n",
    "- 掌握folium和kepler.gl的数据可视化工具的使用。\n",
    "- 学习与掌握geohash编码方法。"
   ]
  },
  {
   "cell_type": "markdown",
   "metadata": {},
   "source": [
    "## 学习内容"
   ]
  },
  {
   "cell_type": "markdown",
   "metadata": {
    "ExecuteTime": {
     "end_time": "2021-04-12T12:37:35.223556Z",
     "start_time": "2021-04-12T12:37:35.218506Z"
    }
   },
   "source": [
    "### shapely"
   ]
  },
  {
   "cell_type": "markdown",
   "metadata": {
    "ExecuteTime": {
     "end_time": "2021-04-12T12:38:01.976880Z",
     "start_time": "2021-04-12T12:38:01.968794Z"
    }
   },
   "source": [
    "Shapely是python中开源的空间几何对象库，支持Point、Curve和Surface等基本几何对象类型以及相关空间操作 "
   ]
  },
  {
   "cell_type": "code",
   "execution_count": 4,
   "metadata": {
    "ExecuteTime": {
     "end_time": "2021-04-12T12:49:49.678922Z",
     "start_time": "2021-04-12T12:49:49.320158Z"
    }
   },
   "outputs": [],
   "source": [
    "from shapely import geometry as geo\n",
    "from shapely import wkt \n",
    "from shapely import ops\n",
    "import numpy as np \n",
    "plt.rcParams['font.sans-serif'] = ['SimHei']  # 设置加载的字体名\n",
    "plt.rcParams['axes.unicode_minus'] = False  # 解决保存图像是负号'-'显示为方块的问题"
   ]
  },
  {
   "cell_type": "markdown",
   "metadata": {},
   "source": [
    "#### Point"
   ]
  },
  {
   "cell_type": "code",
   "execution_count": 20,
   "metadata": {
    "ExecuteTime": {
     "end_time": "2021-04-12T12:54:10.717346Z",
     "start_time": "2021-04-12T12:54:10.709428Z"
    }
   },
   "outputs": [
    {
     "name": "stdout",
     "output_type": "stream",
     "text": [
      "[(0.5, 0.5)]\n",
      "point 的x坐标: 0.5 point 的y坐标: 0.5\n"
     ]
    }
   ],
   "source": [
    "#赋值\n",
    "point = geo.Point(0.5,0.5)  \n",
    "point_2 = geo.Point((0,0))  \n",
    "point_3 = geo.Point(point)\n",
    "print(list(point.coords))\n",
    "print(f\"point 的x坐标:\",point.x,\"point 的y坐标:\",point.y)"
   ]
  },
  {
   "cell_type": "code",
   "execution_count": 21,
   "metadata": {
    "ExecuteTime": {
     "end_time": "2021-04-12T12:54:15.497076Z",
     "start_time": "2021-04-12T12:54:15.484124Z"
    }
   },
   "outputs": [
    {
     "data": {
      "image/svg+xml": [
       "<svg xmlns=\"http://www.w3.org/2000/svg\" xmlns:xlink=\"http://www.w3.org/1999/xlink\" width=\"100.0\" height=\"100.0\" viewBox=\"-0.02 -0.02 0.54 0.54\" preserveAspectRatio=\"xMinYMin meet\"><g transform=\"matrix(1,0,0,-1,0,0.5)\"><g><circle cx=\"0.5\" cy=\"0.5\" r=\"0.0162\" stroke=\"#555555\" stroke-width=\"0.0054\" fill=\"#66cc99\" opacity=\"0.6\" /><circle cx=\"0.0\" cy=\"0.0\" r=\"0.0162\" stroke=\"#555555\" stroke-width=\"0.0054\" fill=\"#66cc99\" opacity=\"0.6\" /></g></g></svg>"
      ],
      "text/plain": [
       "<shapely.geometry.collection.GeometryCollection at 0x7fd382843710>"
      ]
     },
     "execution_count": 21,
     "metadata": {},
     "output_type": "execute_result"
    }
   ],
   "source": [
    "geo.GeometryCollection([point,point_2])#批量进行可视化\n"
   ]
  },
  {
   "cell_type": "code",
   "execution_count": 22,
   "metadata": {
    "ExecuteTime": {
     "end_time": "2021-04-12T12:54:16.082439Z",
     "start_time": "2021-04-12T12:54:16.067462Z"
    }
   },
   "outputs": [
    {
     "name": "stdout",
     "output_type": "stream",
     "text": [
      "[0.5 0.5]\n"
     ]
    }
   ],
   "source": [
    "print(np.array(point))#可以和np.array进行互相转换"
   ]
  },
  {
   "cell_type": "markdown",
   "metadata": {
    "ExecuteTime": {
     "end_time": "2021-04-12T12:54:26.536367Z",
     "start_time": "2021-04-12T12:54:26.532750Z"
    }
   },
   "source": [
    "#### LineStrings  \n",
    "LineStrings构造函数传入参数是2个或多个点元组"
   ]
  },
  {
   "cell_type": "code",
   "execution_count": 38,
   "metadata": {
    "ExecuteTime": {
     "end_time": "2021-04-12T12:58:00.067090Z",
     "start_time": "2021-04-12T12:58:00.043286Z"
    }
   },
   "outputs": [
    {
     "data": {
      "image/svg+xml": [
       "<svg xmlns=\"http://www.w3.org/2000/svg\" xmlns:xlink=\"http://www.w3.org/1999/xlink\" width=\"100.0\" height=\"100.0\" viewBox=\"-0.08 -0.08 2.16 1.1600000000000001\" preserveAspectRatio=\"xMinYMin meet\"><g transform=\"matrix(1,0,0,-1,0,1.0)\"><g><polyline fill=\"none\" stroke=\"#66cc99\" stroke-width=\"0.0432\" points=\"0.0,0.0 1.0,1.0 1.0,0.0\" opacity=\"0.8\" /><circle cx=\"2.0\" cy=\"1.0\" r=\"0.0648\" stroke=\"#555555\" stroke-width=\"0.0216\" fill=\"#66cc99\" opacity=\"0.6\" /></g></g></svg>"
      ],
      "text/plain": [
       "<shapely.geometry.collection.GeometryCollection at 0x7fd38283ab50>"
      ]
     },
     "execution_count": 38,
     "metadata": {},
     "output_type": "execute_result"
    }
   ],
   "source": [
    "arr=np.array([(0,0), (1,1), (1,0)])\n",
    "line = geo.LineString(arr) #等同于 line = geo.LineString([(0,0), (1,1), (1,0)]) \n",
    "geo.GeometryCollection([line,geo.Point(2,1)])#批量进行可视化\n"
   ]
  },
  {
   "cell_type": "code",
   "execution_count": 37,
   "metadata": {
    "ExecuteTime": {
     "end_time": "2021-04-12T12:57:58.330487Z",
     "start_time": "2021-04-12T12:57:58.317258Z"
    }
   },
   "outputs": [
    {
     "data": {
      "text/plain": [
       "1.0"
      ]
     },
     "execution_count": 37,
     "metadata": {},
     "output_type": "execute_result"
    }
   ],
   "source": [
    "geo.Point(2,1).distance(line)#该方法即可求线线距离也可以求线点距离\n"
   ]
  },
  {
   "cell_type": "code",
   "execution_count": 40,
   "metadata": {
    "ExecuteTime": {
     "end_time": "2021-04-12T12:58:32.232558Z",
     "start_time": "2021-04-12T12:58:32.218988Z"
    }
   },
   "outputs": [
    {
     "data": {
      "image/svg+xml": [
       "<svg xmlns=\"http://www.w3.org/2000/svg\" xmlns:xlink=\"http://www.w3.org/1999/xlink\" width=\"100.0\" height=\"100.0\" viewBox=\"-0.08 -0.08 2.16 1.1600000000000001\" preserveAspectRatio=\"xMinYMin meet\"><g transform=\"matrix(1,0,0,-1,0,1.0)\"><g><polyline fill=\"none\" stroke=\"#66cc99\" stroke-width=\"0.0432\" points=\"0.0,0.0 1.0,1.0 1.0,0.0\" opacity=\"0.8\" /><circle cx=\"2.0\" cy=\"1.0\" r=\"0.0648\" stroke=\"#555555\" stroke-width=\"0.0216\" fill=\"#66cc99\" opacity=\"0.6\" /></g></g></svg>"
      ],
      "text/plain": [
       "<shapely.geometry.collection.GeometryCollection at 0x7fd3828431d0>"
      ]
     },
     "execution_count": 40,
     "metadata": {},
     "output_type": "execute_result"
    }
   ],
   "source": [
    "geo.GeometryCollection([line,geo.Point(2,1)])#批量进行可视化"
   ]
  },
  {
   "cell_type": "code",
   "execution_count": 41,
   "metadata": {
    "ExecuteTime": {
     "end_time": "2021-04-12T12:58:43.152902Z",
     "start_time": "2021-04-12T12:58:43.140112Z"
    }
   },
   "outputs": [
    {
     "data": {
      "text/plain": [
       "2.23606797749979"
      ]
     },
     "execution_count": 41,
     "metadata": {},
     "output_type": "execute_result"
    }
   ],
   "source": [
    "geo.Point(2,1).hausdorff_distance(line)#5**0.5 #该方法求得是点与线的最长距离"
   ]
  },
  {
   "cell_type": "code",
   "execution_count": 47,
   "metadata": {
    "ExecuteTime": {
     "end_time": "2021-04-12T13:01:02.340082Z",
     "start_time": "2021-04-12T13:01:02.326662Z"
    }
   },
   "outputs": [
    {
     "data": {
      "text/plain": [
       "0.0"
      ]
     },
     "execution_count": 47,
     "metadata": {},
     "output_type": "execute_result"
    }
   ],
   "source": [
    "arr=np.array([(0,0), (1,1), (1,0),(0,0)])\n",
    "line = geo.LineString(arr) #等同于 line = geo.LineString([(0,0), (1,1), (1,0),(0,0)]) \n",
    "line.area"
   ]
  },
  {
   "cell_type": "code",
   "execution_count": 49,
   "metadata": {
    "ExecuteTime": {
     "end_time": "2021-04-12T13:01:59.249554Z",
     "start_time": "2021-04-12T13:01:59.237974Z"
    }
   },
   "outputs": [
    {
     "name": "stdout",
     "output_type": "stream",
     "text": [
      "该几何对象的坐标范围:(0.0, 0.0, 1.0, 1.0)\n"
     ]
    }
   ],
   "source": [
    "print('该几何对象的坐标范围:'+str(line.bounds))"
   ]
  },
  {
   "cell_type": "code",
   "execution_count": 50,
   "metadata": {
    "ExecuteTime": {
     "end_time": "2021-04-12T13:02:05.612204Z",
     "start_time": "2021-04-12T13:02:05.605090Z"
    }
   },
   "outputs": [
    {
     "name": "stdout",
     "output_type": "stream",
     "text": [
      "该几何对象的长度:3.414213562373095\n"
     ]
    }
   ],
   "source": [
    "print('该几何对象的长度:'+str(line.length))"
   ]
  },
  {
   "cell_type": "code",
   "execution_count": 51,
   "metadata": {
    "ExecuteTime": {
     "end_time": "2021-04-12T13:02:17.529247Z",
     "start_time": "2021-04-12T13:02:17.517193Z"
    }
   },
   "outputs": [
    {
     "name": "stdout",
     "output_type": "stream",
     "text": [
      "该几何对象的几何类型:LineString\n"
     ]
    }
   ],
   "source": [
    "print('该几何对象的几何类型:'+str(line.geom_type))  "
   ]
  },
  {
   "cell_type": "code",
   "execution_count": 52,
   "metadata": {
    "ExecuteTime": {
     "end_time": "2021-04-12T13:02:24.583622Z",
     "start_time": "2021-04-12T13:02:24.570638Z"
    }
   },
   "outputs": [
    {
     "name": "stdout",
     "output_type": "stream",
     "text": [
      "该几何对象的坐标系:[(0.0, 0.0), (1.0, 1.0), (1.0, 0.0), (0.0, 0.0)]\n"
     ]
    }
   ],
   "source": [
    "print('该几何对象的坐标系:'+str(list(line.coords)))"
   ]
  },
  {
   "cell_type": "code",
   "execution_count": 53,
   "metadata": {
    "ExecuteTime": {
     "end_time": "2021-04-12T13:02:54.963489Z",
     "start_time": "2021-04-12T13:02:54.949706Z"
    }
   },
   "outputs": [
    {
     "data": {
      "image/svg+xml": [
       "<svg xmlns=\"http://www.w3.org/2000/svg\" xmlns:xlink=\"http://www.w3.org/1999/xlink\" width=\"100.0\" height=\"100.0\" viewBox=\"-0.04 -0.04 1.08 1.08\" preserveAspectRatio=\"xMinYMin meet\"><g transform=\"matrix(1,0,0,-1,0,1.0)\"><g><polyline fill=\"none\" stroke=\"#66cc99\" stroke-width=\"0.0216\" points=\"0.0,0.0 1.0,1.0 1.0,0.0 0.0,0.0\" opacity=\"0.8\" /><circle cx=\"0.6464466094067263\" cy=\"0.35355339059327373\" r=\"0.0324\" stroke=\"#555555\" stroke-width=\"0.0108\" fill=\"#66cc99\" opacity=\"0.6\" /></g></g></svg>"
      ],
      "text/plain": [
       "<shapely.geometry.collection.GeometryCollection at 0x7fd38284c790>"
      ]
     },
     "execution_count": 53,
     "metadata": {},
     "output_type": "execute_result"
    }
   ],
   "source": [
    "center = line.centroid #几何中心\n",
    "geo.GeometryCollection([line,center])"
   ]
  },
  {
   "cell_type": "code",
   "execution_count": 54,
   "metadata": {
    "ExecuteTime": {
     "end_time": "2021-04-12T13:03:06.978355Z",
     "start_time": "2021-04-12T13:03:06.954541Z"
    }
   },
   "outputs": [
    {
     "data": {
      "image/svg+xml": [
       "<svg xmlns=\"http://www.w3.org/2000/svg\" xmlns:xlink=\"http://www.w3.org/1999/xlink\" width=\"100.0\" height=\"100.0\" viewBox=\"-0.04 -0.04 1.08 1.08\" preserveAspectRatio=\"xMinYMin meet\"><g transform=\"matrix(1,0,0,-1,0,1.0)\"><g><polyline fill=\"none\" stroke=\"#66cc99\" stroke-width=\"0.0216\" points=\"0.0,0.0 1.0,1.0 1.0,0.0 0.0,0.0\" opacity=\"0.8\" /><path fill-rule=\"evenodd\" fill=\"#66cc99\" stroke=\"#555555\" stroke-width=\"0.0216\" opacity=\"0.6\" d=\"M 0.0,0.0 L 1.0,0.0 L 1.0,1.0 L 0.0,1.0 L 0.0,0.0 z\" /></g></g></svg>"
      ],
      "text/plain": [
       "<shapely.geometry.collection.GeometryCollection at 0x7fd38284c750>"
      ]
     },
     "execution_count": 54,
     "metadata": {},
     "output_type": "execute_result"
    }
   ],
   "source": [
    "bbox = line.envelope #envelope可以求几何对象的最小外接矩形\n",
    "geo.GeometryCollection([line,bbox]) "
   ]
  },
  {
   "cell_type": "code",
   "execution_count": 55,
   "metadata": {
    "ExecuteTime": {
     "end_time": "2021-04-12T13:03:19.273929Z",
     "start_time": "2021-04-12T13:03:19.258592Z"
    }
   },
   "outputs": [
    {
     "data": {
      "image/svg+xml": [
       "<svg xmlns=\"http://www.w3.org/2000/svg\" xmlns:xlink=\"http://www.w3.org/1999/xlink\" width=\"100.0\" height=\"100.0\" viewBox=\"-0.06 -0.5599999999999998 1.6199999999999997 1.6199999999999999\" preserveAspectRatio=\"xMinYMin meet\"><g transform=\"matrix(1,0,0,-1,0,0.5000000000000002)\"><g><polyline fill=\"none\" stroke=\"#66cc99\" stroke-width=\"0.0324\" points=\"0.0,0.0 1.0,1.0 1.0,0.0 0.0,0.0\" opacity=\"0.8\" /><path fill-rule=\"evenodd\" fill=\"#66cc99\" stroke=\"#555555\" stroke-width=\"0.0324\" opacity=\"0.6\" d=\"M 0.4999999999999999,-0.4999999999999999 L 1.4999999999999996,0.4999999999999999 L 0.9999999999999998,0.9999999999999998 L 0.0,0.0 L 0.4999999999999999,-0.4999999999999999 z\" /></g></g></svg>"
      ],
      "text/plain": [
       "<shapely.geometry.collection.GeometryCollection at 0x7fd382833790>"
      ]
     },
     "execution_count": 55,
     "metadata": {},
     "output_type": "execute_result"
    }
   ],
   "source": [
    "rect = line.minimum_rotated_rectangle #最小旋转外接矩形\n",
    "geo.GeometryCollection([line,rect])"
   ]
  },
  {
   "cell_type": "code",
   "execution_count": 60,
   "metadata": {
    "ExecuteTime": {
     "end_time": "2021-04-12T13:10:59.630615Z",
     "start_time": "2021-04-12T13:10:59.619309Z"
    }
   },
   "outputs": [
    {
     "data": {
      "image/svg+xml": [
       "<svg xmlns=\"http://www.w3.org/2000/svg\" xmlns:xlink=\"http://www.w3.org/1999/xlink\" width=\"100.0\" height=\"100.0\" viewBox=\"-0.04 -0.04 1.08 1.08\" preserveAspectRatio=\"xMinYMin meet\"><g transform=\"matrix(1,0,0,-1,0,1.0)\"><g><polyline fill=\"none\" stroke=\"#66cc99\" stroke-width=\"0.0216\" points=\"0.0,0.0 1.0,1.0 1.0,0.0 0.0,0.0\" opacity=\"0.8\" /><circle cx=\"1.0\" cy=\"0.7071067811865477\" r=\"0.0324\" stroke=\"#555555\" stroke-width=\"0.0108\" fill=\"#66cc99\" opacity=\"0.6\" /></g></g></svg>"
      ],
      "text/plain": [
       "<shapely.geometry.collection.GeometryCollection at 0x7fd38282de50>"
      ]
     },
     "execution_count": 60,
     "metadata": {},
     "output_type": "execute_result"
    }
   ],
   "source": [
    "pt_half = line.interpolate(0.5,normalized=True) #插值线段的中点\n",
    "geo.GeometryCollection([line,pt_half])"
   ]
  },
  {
   "cell_type": "code",
   "execution_count": 61,
   "metadata": {
    "ExecuteTime": {
     "end_time": "2021-04-12T13:11:13.163325Z",
     "start_time": "2021-04-12T13:11:13.152947Z"
    }
   },
   "outputs": [
    {
     "name": "stdout",
     "output_type": "stream",
     "text": [
      "0.5\n"
     ]
    }
   ],
   "source": [
    "ratio = line.project(pt_half,normalized=True) # project()方法是和interpolate方法互逆的\n",
    "print(ratio)"
   ]
  },
  {
   "cell_type": "markdown",
   "metadata": {
    "ExecuteTime": {
     "end_time": "2021-04-12T13:11:25.926238Z",
     "start_time": "2021-04-12T13:11:25.919182Z"
    }
   },
   "source": [
    "下面这个是DouglasPucker算法的应用，在轨迹分析中经常会用得到"
   ]
  },
  {
   "cell_type": "code",
   "execution_count": 63,
   "metadata": {
    "ExecuteTime": {
     "end_time": "2021-04-12T13:13:22.534381Z",
     "start_time": "2021-04-12T13:13:22.528343Z"
    }
   },
   "outputs": [],
   "source": [
    "line1 = geo.LineString([(0,0),(1,-0.2),(2,0.3),(3,-0.5),(5,0.2),(7,0)])"
   ]
  },
  {
   "cell_type": "code",
   "execution_count": 64,
   "metadata": {
    "ExecuteTime": {
     "end_time": "2021-04-12T13:13:33.355290Z",
     "start_time": "2021-04-12T13:13:33.339754Z"
    }
   },
   "outputs": [
    {
     "data": {
      "image/svg+xml": [
       "<svg xmlns=\"http://www.w3.org/2000/svg\" xmlns:xlink=\"http://www.w3.org/1999/xlink\" width=\"100.0\" height=\"100.0\" viewBox=\"-0.28 -0.78 7.5600000000000005 1.36\" preserveAspectRatio=\"xMinYMin meet\"><g transform=\"matrix(1,0,0,-1,0,-0.19999999999999996)\"><g><polyline fill=\"none\" stroke=\"#66cc99\" stroke-width=\"0.1512\" points=\"0.0,0.0 1.0,-0.2 2.0,0.3 3.0,-0.5 5.0,0.2 7.0,0.0\" opacity=\"0.8\" /></g></g></svg>"
      ],
      "text/plain": [
       "<shapely.geometry.collection.GeometryCollection at 0x7fd382884a90>"
      ]
     },
     "execution_count": 64,
     "metadata": {},
     "output_type": "execute_result"
    }
   ],
   "source": [
    "geo.GeometryCollection([line1])"
   ]
  },
  {
   "cell_type": "code",
   "execution_count": 65,
   "metadata": {
    "ExecuteTime": {
     "end_time": "2021-04-12T13:13:45.614265Z",
     "start_time": "2021-04-12T13:13:45.604706Z"
    }
   },
   "outputs": [
    {
     "data": {
      "image/svg+xml": [
       "<svg xmlns=\"http://www.w3.org/2000/svg\" xmlns:xlink=\"http://www.w3.org/1999/xlink\" width=\"100.0\" height=\"100.0\" viewBox=\"-0.28 -0.78 7.5600000000000005 1.36\" preserveAspectRatio=\"xMinYMin meet\"><g transform=\"matrix(1,0,0,-1,0,-0.19999999999999996)\"><polyline fill=\"none\" stroke=\"#66cc99\" stroke-width=\"0.1512\" points=\"0.0,0.0 2.0,0.3 3.0,-0.5 5.0,0.2 7.0,0.0\" opacity=\"0.8\" /></g></svg>"
      ],
      "text/plain": [
       "<shapely.geometry.linestring.LineString at 0x7fd382840410>"
      ]
     },
     "execution_count": 65,
     "metadata": {},
     "output_type": "execute_result"
    }
   ],
   "source": [
    "line1.simplify(0.4, preserve_topology=False) "
   ]
  },
  {
   "cell_type": "code",
   "execution_count": 70,
   "metadata": {
    "ExecuteTime": {
     "end_time": "2021-04-12T13:17:06.801756Z",
     "start_time": "2021-04-12T13:17:06.792141Z"
    }
   },
   "outputs": [
    {
     "data": {
      "image/svg+xml": [
       "<svg xmlns=\"http://www.w3.org/2000/svg\" xmlns:xlink=\"http://www.w3.org/1999/xlink\" width=\"100.0\" height=\"100.0\" viewBox=\"-1.2519994477648582 -1.7515024801234842 9.503998383642312 3.3034510834960935\" preserveAspectRatio=\"xMinYMin meet\"><g transform=\"matrix(1,0,0,-1,0,-0.19955387675087488)\"><g><polyline fill=\"none\" stroke=\"#66cc99\" stroke-width=\"0.19007996767284624\" points=\"0.0,0.0 1.0,-0.2 2.0,0.3 3.0,-0.5 5.0,0.2 7.0,0.0\" opacity=\"0.8\" /><path fill-rule=\"evenodd\" fill=\"#66cc99\" stroke=\"#555555\" stroke-width=\"0.19007996767284624\" opacity=\"0.6\" d=\"M 0.8737041751025657,0.743082677426188 L 1.597507764050038,1.1049844718999242 L 1.675568456596621,1.1394904249870283 L 1.7565466829155396,1.1664470453527862 L 1.8397142255602692,1.1856119186823626 L 1.9243231790963293,1.1968126999423647 L 2.009612675832515,1.1999486632377088 L 2.0948157281185416,1.1949916076150384 L 2.1791661256779884,1.1819861106670213 L 2.261905325950511,1.161049127656928 L 2.342289275480152,1.1323689397684615 L 2.419595101006666,1.0962034609389775 L 2.49312761008851,1.0528779185023256 L 2.562225542798982,1.0027819284987272 L 3.173069094103603,0.5141070874550302 L 4.702684617744705,1.0494725207294158 L 4.796933624425539,1.0767919063900238 L 4.893596670163411,1.0936880503842972 L 4.991524631342342,1.0999600925186166 L 5.089553347118899,1.0955334711889904 L 7.089553347118899,0.8955334711889903 L 7.176899753190453,0.8824434697594837 L 7.26254251793554,0.8608550553235236 L 7.345656854712567,0.8309761361135558 L 7.425442327023457,0.793094462455051 L 7.501130557154676,0.7475748555735701 L 7.5719926260746675,0.6948556941669295 L 7.637346093322584,0.635444692578701 L 7.69656156928299,0.5699140112315358 L 7.749068776551913,0.4988947464095217 L 7.794362042019994,0.4230708524559738 L 7.83200516678096,0.3431725549192215 L 7.861635626965537,0.2599693180813962 L 7.882968065044489,0.1742624345967618 L 7.89579703797762,0.08687730860542377 L 7.899998995742554,-0.0013444933597522735 L 7.89553347118899,-0.08955334711889908 L 7.882443469759484,-0.17689975319045162 L 7.860855055323524,-0.2625425179355383 L 7.830976136113557,-0.34565685471256646 L 7.793094462455052,-0.42544232702345514 L 7.747574855573571,-0.5011305571546747 L 7.694855694166931,-0.5719926260746665 L 7.635444692578702,-0.6373460933225834 L 7.569914011231536,-0.6965615692829888 L 7.498894746409523,-0.7490687765519121 L 7.423070852455974,-0.7943620420199943 L 7.343172554919222,-0.8320051667809604 L 7.259969318081397,-0.8616356269655369 L 7.174262434596762,-0.8829680650444892 L 7.086877308605423,-0.8957970379776202 L 6.998655506640247,-0.8999989957425539 L 6.910446652881101,-0.8955334711889903 L 5.10898688581753,-0.7153874944826333 L 3.2973153822552956,-1.3494725207294156 L 3.210025385161195,-1.3751510370146927 L 3.1205887394027227,-1.3918847212107976 L 3.0299195680798845,-1.3995025399885836 L 2.9389445918144297,-1.3979266323766621 L 2.8485936568301446,-1.387173105570684 L 2.7597902310866758,-1.3673518703032856 L 2.6734419656049577,-1.338665517457375 L 2.5904314174560072,-1.301407247404779 L 2.5116070292324943,-1.2559578732342764 L 2.437774457201018,-1.2027819284987271 L 1.8874370977976866,-0.7625120409760621 L 1.402492235949962,-1.0049844718999243 L 1.3247933119723654,-1.0393505254052218 L 1.2442000591899522,-1.0662368793185983 L 1.1614306678006223,-1.0854039414264232 L 1.077222720213941,-1.0966809083964928 L 0.9923266182371828,-1.0999672878567988 L 0.9074988960239472,-1.0952337939126358 L 0.8234954783756343,-1.0825226081218282 L -0.17650452162436564,-0.8825226081218281 L -0.26215694643343934,-0.8609725520808982 L -0.34528465653879314,-0.831130859707957 L -0.4250870866498858,-0.7932849228136839 L -0.5007956957403005,-0.747799218459065 L -0.5716813685179613,-0.6951117988420504 L -0.6370614372039693,-0.6357300726154247 L -0.696306255996497,-0.5702259182641042 L -0.7488452649040597,-0.49923017660270563 L -0.7941724845501341,-0.4234265754336483 L -0.8318513890311499,-0.34354514487465326 L -0.8615191098995704,-0.26035518676963587 L -0.8828899307854066,-0.1746578658914048 L -0.8957580390010491,-0.08727849428693796 L -0.8999995076299577,0.000941416928790699 L -0.8955734890106133,0.08915226178486425 L -0.8825226081218283,0.17650452162436545 L -0.8609725520808986,0.26215694643343773 L -0.8311308597079575,0.345284656538792 L -0.7932849228136847,0.42508708664988437 L -0.7477992184590659,0.500795695740299 L -0.6951117988420514,0.5716813685179599 L -0.6357300726154261,0.6370614372039679 L -0.5702259182641061,0.6963062559964955 L -0.49923017660270763,0.7488452649040583 L -0.4234265754336505,0.794172484550133 L -0.34354514487465593,0.8318513890311487 L -0.260355186769639,0.8615191098995695 L -0.17465786589140797,0.882889930785406 L -0.0872784942869412,0.8957580390010488 L 0.0009414169287870467,0.8999995076299577 L 0.08915226178486023,0.8955734890106137 L 0.17650452162436148,0.882522608121829 L 0.8737041751025657,0.743082677426188 z\" /></g></g></svg>"
      ],
      "text/plain": [
       "<shapely.geometry.collection.GeometryCollection at 0x7fd382884fd0>"
      ]
     },
     "execution_count": 70,
     "metadata": {},
     "output_type": "execute_result"
    }
   ],
   "source": [
    "buffer_with_circle = line1.buffer(0.9)  #端点按照半圆扩展\n",
    "geo.GeometryCollection([line1,buffer_with_circle])"
   ]
  },
  {
   "cell_type": "markdown",
   "metadata": {
    "ExecuteTime": {
     "end_time": "2021-04-12T13:17:18.574710Z",
     "start_time": "2021-04-12T13:17:18.570931Z"
    }
   },
   "source": [
    "#### LinearRings\n",
    "LineStrings构造函数传入参数是2个或多个点元组\n",
    "\n",
    "元组序列可以通过在第一个和最后一个索引中传递相同的值来显式关闭。否则，将第一个元组复制到最后一个索引，从而隐式关闭序列。\n",
    "\n",
    "与LineString一样，元组序列中的重复点是允许的，但可能会导致性能上的损失，应该避免在序列中设置重复点。"
   ]
  },
  {
   "cell_type": "code",
   "execution_count": 74,
   "metadata": {
    "ExecuteTime": {
     "end_time": "2021-04-12T13:24:26.739439Z",
     "start_time": "2021-04-12T13:24:26.728869Z"
    }
   },
   "outputs": [
    {
     "name": "stdout",
     "output_type": "stream",
     "text": [
      "3.414213562373095\n",
      "0.0\n"
     ]
    },
    {
     "data": {
      "image/svg+xml": [
       "<svg xmlns=\"http://www.w3.org/2000/svg\" xmlns:xlink=\"http://www.w3.org/1999/xlink\" width=\"100.0\" height=\"100.0\" viewBox=\"-0.04 -0.04 1.08 1.08\" preserveAspectRatio=\"xMinYMin meet\"><g transform=\"matrix(1,0,0,-1,0,1.0)\"><g><polyline fill=\"none\" stroke=\"#66cc99\" stroke-width=\"0.0216\" points=\"0.0,0.0 1.0,1.0 1.0,0.0 0.0,0.0\" opacity=\"0.8\" /></g></g></svg>"
      ],
      "text/plain": [
       "<shapely.geometry.collection.GeometryCollection at 0x7fd382833f50>"
      ]
     },
     "execution_count": 74,
     "metadata": {},
     "output_type": "execute_result"
    }
   ],
   "source": [
    "ring = geo.polygon.LinearRing([(0, 0), (1, 1), (1, 0)])\n",
    "print(ring.length)#相比于刚才的LineString的代码示例，其长度现在是3.41，是因为其序列是闭合的\n",
    "print(ring.area)\n",
    "geo.GeometryCollection([ring])"
   ]
  },
  {
   "cell_type": "markdown",
   "metadata": {
    "ExecuteTime": {
     "end_time": "2021-04-12T13:24:42.327250Z",
     "start_time": "2021-04-12T13:24:42.319809Z"
    }
   },
   "source": [
    "#### Polygon  \n",
    "\n",
    "Polygon接受两个位置参数，第一个位置参数是和LinearRing一样，是一个有序的point元组。第二个位置参数是可选的序列，其用来指定内部的边界"
   ]
  },
  {
   "cell_type": "code",
   "execution_count": 85,
   "metadata": {
    "ExecuteTime": {
     "end_time": "2021-04-12T13:29:33.693314Z",
     "start_time": "2021-04-12T13:29:33.680962Z"
    }
   },
   "outputs": [
    {
     "data": {
      "image/svg+xml": [
       "<svg xmlns=\"http://www.w3.org/2000/svg\" xmlns:xlink=\"http://www.w3.org/1999/xlink\" width=\"100.0\" height=\"100.0\" viewBox=\"-0.04 -0.04 1.08 1.08\" preserveAspectRatio=\"xMinYMin meet\"><g transform=\"matrix(1,0,0,-1,0,1.0)\"><path fill-rule=\"evenodd\" fill=\"#66cc99\" stroke=\"#555555\" stroke-width=\"0.0216\" opacity=\"0.6\" d=\"M 0.0,0.0 L 1.0,1.0 L 1.0,0.0 L 0.0,0.0 z\" /></g></svg>"
      ],
      "text/plain": [
       "<shapely.geometry.polygon.Polygon at 0x7fd382814550>"
      ]
     },
     "execution_count": 85,
     "metadata": {},
     "output_type": "execute_result"
    }
   ],
   "source": [
    "from shapely.geometry import Polygon\n",
    "polygon1 = Polygon([(0, 0), (1, 1), (1, 0)])\n",
    "polygon1"
   ]
  },
  {
   "cell_type": "code",
   "execution_count": 86,
   "metadata": {
    "ExecuteTime": {
     "end_time": "2021-04-12T13:29:44.208465Z",
     "start_time": "2021-04-12T13:29:44.200117Z"
    }
   },
   "outputs": [
    {
     "data": {
      "text/plain": [
       "3.414213562373095"
      ]
     },
     "execution_count": 86,
     "metadata": {},
     "output_type": "execute_result"
    }
   ],
   "source": [
    "polygon1.length"
   ]
  },
  {
   "cell_type": "code",
   "execution_count": 90,
   "metadata": {
    "ExecuteTime": {
     "end_time": "2021-04-12T13:30:32.719274Z",
     "start_time": "2021-04-12T13:30:32.708974Z"
    }
   },
   "outputs": [
    {
     "data": {
      "image/svg+xml": [
       "<svg xmlns=\"http://www.w3.org/2000/svg\" xmlns:xlink=\"http://www.w3.org/1999/xlink\" width=\"100.0\" height=\"100.0\" viewBox=\"-0.08 -0.08 2.16 2.16\" preserveAspectRatio=\"xMinYMin meet\"><g transform=\"matrix(1,0,0,-1,0,2.0)\"><path fill-rule=\"evenodd\" fill=\"#66cc99\" stroke=\"#555555\" stroke-width=\"0.0432\" opacity=\"0.6\" d=\"M 0.0,0.0 L 0.0,2.0 L 2.0,2.0 L 2.0,0.0 L 0.0,0.0 z M 1.0,0.0 L 0.5,0.5 L 1.0,1.0 L 1.5,0.5 L 1.0,0.0 z\" /></g></svg>"
      ],
      "text/plain": [
       "<shapely.geometry.polygon.Polygon at 0x7fd3828846d0>"
      ]
     },
     "execution_count": 90,
     "metadata": {},
     "output_type": "execute_result"
    }
   ],
   "source": [
    "ext = [(0, 0), (0, 2), (2, 2), (2, 0), (0, 0)]\n",
    "int_ = [(1, 0), (0.5, 0.5), (1, 1), (1.5, 0.5), (1, 0)]\n",
    "polygon2 = Polygon(ext, [int_])\n",
    "polygon2"
   ]
  },
  {
   "cell_type": "code",
   "execution_count": 91,
   "metadata": {
    "ExecuteTime": {
     "end_time": "2021-04-12T13:30:43.467201Z",
     "start_time": "2021-04-12T13:30:43.457167Z"
    }
   },
   "outputs": [
    {
     "name": "stdout",
     "output_type": "stream",
     "text": [
      "3.5\n",
      "10.82842712474619\n",
      "[[0. 0.]\n",
      " [0. 2.]\n",
      " [2. 2.]\n",
      " [2. 0.]\n",
      " [0. 0.]]\n"
     ]
    }
   ],
   "source": [
    "print(polygon2.area)#其面积是ext的面积减去int的面积\n",
    "print(polygon2.length)#其长度是ext的长度加上int的长度\n",
    "print(np.array(polygon2.exterior))"
   ]
  },
  {
   "cell_type": "code",
   "execution_count": 92,
   "metadata": {
    "ExecuteTime": {
     "end_time": "2021-04-12T13:30:53.041201Z",
     "start_time": "2021-04-12T13:30:53.030895Z"
    }
   },
   "outputs": [
    {
     "data": {
      "image/svg+xml": [
       "<svg xmlns=\"http://www.w3.org/2000/svg\" xmlns:xlink=\"http://www.w3.org/1999/xlink\" width=\"100.0\" height=\"100.0\" viewBox=\"-0.08 -0.08 2.16 2.16\" preserveAspectRatio=\"xMinYMin meet\"><g transform=\"matrix(1,0,0,-1,0,2.0)\"><g><path fill-rule=\"evenodd\" fill=\"#66cc99\" stroke=\"#555555\" stroke-width=\"0.0432\" opacity=\"0.6\" d=\"M 0.0,0.0 L 0.0,2.0 L 2.0,2.0 L 2.0,0.0 L 0.0,0.0 z M 1.0,0.0 L 0.5,0.5 L 1.0,1.0 L 1.5,0.5 L 1.0,0.0 z\" /></g></g></svg>"
      ],
      "text/plain": [
       "<shapely.geometry.collection.GeometryCollection at 0x7fd382840490>"
      ]
     },
     "execution_count": 92,
     "metadata": {},
     "output_type": "execute_result"
    }
   ],
   "source": [
    "geo.GeometryCollection([polygon2])"
   ]
  },
  {
   "cell_type": "markdown",
   "metadata": {
    "ExecuteTime": {
     "end_time": "2021-04-12T13:31:58.201842Z",
     "start_time": "2021-04-12T13:31:58.192554Z"
    }
   },
   "source": [
    "#### 几何对象关系"
   ]
  },
  {
   "cell_type": "markdown",
   "metadata": {
    "ExecuteTime": {
     "end_time": "2021-04-12T13:32:28.921008Z",
     "start_time": "2021-04-12T13:32:28.908584Z"
    }
   },
   "source": [
    "一个几何对象特征分别有interior、boundary和exterior。下面的叙述直接用内部、边界和外部等名词概述\n",
    "\n",
    "1.object.contains(other)  \n",
    "\n",
    "如果object的外部没有其他点，或者至少有一个点在该object的内部，则返回True  \n",
    "\n",
    "a.contains(b)与 b.within(a)的表达是等价的"
   ]
  },
  {
   "cell_type": "code",
   "execution_count": 97,
   "metadata": {
    "ExecuteTime": {
     "end_time": "2021-04-12T13:34:04.708767Z",
     "start_time": "2021-04-12T13:34:04.696578Z"
    }
   },
   "outputs": [
    {
     "name": "stdout",
     "output_type": "stream",
     "text": [
      "True\n"
     ]
    },
    {
     "data": {
      "image/svg+xml": [
       "<svg xmlns=\"http://www.w3.org/2000/svg\" xmlns:xlink=\"http://www.w3.org/1999/xlink\" width=\"100.0\" height=\"100.0\" viewBox=\"-0.04 -0.04 1.08 1.08\" preserveAspectRatio=\"xMinYMin meet\"><g transform=\"matrix(1,0,0,-1,0,1.0)\"><g><polyline fill=\"none\" stroke=\"#66cc99\" stroke-width=\"0.0216\" points=\"0.0,0.0 1.0,1.0\" opacity=\"0.8\" /><circle cx=\"0.5\" cy=\"0.5\" r=\"0.0324\" stroke=\"#555555\" stroke-width=\"0.0108\" fill=\"#66cc99\" opacity=\"0.6\" /></g></g></svg>"
      ],
      "text/plain": [
       "<shapely.geometry.collection.GeometryCollection at 0x7fd38283a510>"
      ]
     },
     "execution_count": 97,
     "metadata": {},
     "output_type": "execute_result"
    }
   ],
   "source": [
    "coords = [(0, 0), (1, 1)]\n",
    "print(geo.LineString(coords).contains(geo.Point(0.5, 0.5)))#线与点的关系\n",
    "geo.GeometryCollection([geo.LineString(coords),geo.Point(0.5, 0.5)])"
   ]
  },
  {
   "cell_type": "code",
   "execution_count": 98,
   "metadata": {
    "ExecuteTime": {
     "end_time": "2021-04-12T13:34:30.403536Z",
     "start_time": "2021-04-12T13:34:30.387033Z"
    }
   },
   "outputs": [
    {
     "name": "stdout",
     "output_type": "stream",
     "text": [
      "False\n"
     ]
    },
    {
     "data": {
      "image/svg+xml": [
       "<svg xmlns=\"http://www.w3.org/2000/svg\" xmlns:xlink=\"http://www.w3.org/1999/xlink\" width=\"100.0\" height=\"100.0\" viewBox=\"-0.04 -0.04 1.08 1.08\" preserveAspectRatio=\"xMinYMin meet\"><g transform=\"matrix(1,0,0,-1,0,1.0)\"><g><polyline fill=\"none\" stroke=\"#66cc99\" stroke-width=\"0.0216\" points=\"0.0,0.0 1.0,1.0\" opacity=\"0.8\" /><circle cx=\"1.0\" cy=\"1.0\" r=\"0.0324\" stroke=\"#555555\" stroke-width=\"0.0108\" fill=\"#66cc99\" opacity=\"0.6\" /></g></g></svg>"
      ],
      "text/plain": [
       "<shapely.geometry.collection.GeometryCollection at 0x7fd382843490>"
      ]
     },
     "execution_count": 98,
     "metadata": {},
     "output_type": "execute_result"
    }
   ],
   "source": [
    "print(geo.LineString(coords).contains(geo.Point(1.0, 1.0)))#因为line的边界不是属于在该对象的内部，所以返回是False\n",
    "geo.GeometryCollection([geo.LineString(coords),geo.Point(1.0, 1.0)])"
   ]
  },
  {
   "cell_type": "code",
   "execution_count": 101,
   "metadata": {
    "ExecuteTime": {
     "end_time": "2021-04-12T13:38:57.902782Z",
     "start_time": "2021-04-12T13:38:57.888483Z"
    }
   },
   "outputs": [
    {
     "name": "stdout",
     "output_type": "stream",
     "text": [
      "True\n"
     ]
    },
    {
     "data": {
      "image/svg+xml": [
       "<svg xmlns=\"http://www.w3.org/2000/svg\" xmlns:xlink=\"http://www.w3.org/1999/xlink\" width=\"100.0\" height=\"100.0\" viewBox=\"-0.08 -0.08 2.16 2.16\" preserveAspectRatio=\"xMinYMin meet\"><g transform=\"matrix(1,0,0,-1,0,2.0)\"><g><path fill-rule=\"evenodd\" fill=\"#66cc99\" stroke=\"#555555\" stroke-width=\"0.0432\" opacity=\"0.6\" d=\"M 0.0,0.0 L 0.0,2.0 L 2.0,2.0 L 2.0,0.0 L 0.0,0.0 z\" /><circle cx=\"1.0\" cy=\"1.0\" r=\"0.0648\" stroke=\"#555555\" stroke-width=\"0.0216\" fill=\"#66cc99\" opacity=\"0.6\" /></g></g></svg>"
      ],
      "text/plain": [
       "<shapely.geometry.collection.GeometryCollection at 0x7fd382872750>"
      ]
     },
     "execution_count": 101,
     "metadata": {},
     "output_type": "execute_result"
    }
   ],
   "source": [
    "polygon1 = Polygon( [(0, 0), (0, 2), (2, 2), (2, 0), (0, 0)])\n",
    "print(polygon1.contains(geo.Point(1.0, 1.0)))#面与点的关系\n",
    "geo.GeometryCollection([polygon1,geo.Point(1.0, 1.0)])"
   ]
  },
  {
   "cell_type": "markdown",
   "metadata": {
    "ExecuteTime": {
     "end_time": "2021-04-12T13:39:11.129260Z",
     "start_time": "2021-04-12T13:39:11.119909Z"
    }
   },
   "source": [
    "\n",
    "3.object.disjoint(other)   \n",
    "如果该对象与另一个对象的内部和边界都不相交则返回True  \n",
    "4.object.intersects(other)  \n",
    "如果该几何对象与另一个几何对象只要相交则返回True。  \n",
    "5.object.convex_hull  \n",
    "返回包含对象中所有点的最小凸多边形（凸包）"
   ]
  },
  {
   "cell_type": "code",
   "execution_count": 103,
   "metadata": {
    "ExecuteTime": {
     "end_time": "2021-04-12T13:39:49.442692Z",
     "start_time": "2021-04-12T13:39:49.426014Z"
    }
   },
   "outputs": [
    {
     "name": "stdout",
     "output_type": "stream",
     "text": [
      "True\n"
     ]
    },
    {
     "data": {
      "image/svg+xml": [
       "<svg xmlns=\"http://www.w3.org/2000/svg\" xmlns:xlink=\"http://www.w3.org/1999/xlink\" width=\"100.0\" height=\"100.0\" viewBox=\"-0.04 -0.04 1.08 1.08\" preserveAspectRatio=\"xMinYMin meet\"><g transform=\"matrix(1,0,0,-1,0,1.0)\"><g><polyline fill=\"none\" stroke=\"#66cc99\" stroke-width=\"0.0216\" points=\"0.0,0.0 1.0,1.0\" opacity=\"0.8\" /><circle cx=\"1.0\" cy=\"1.0\" r=\"0.0324\" stroke=\"#555555\" stroke-width=\"0.0108\" fill=\"#66cc99\" opacity=\"0.6\" /></g></g></svg>"
      ],
      "text/plain": [
       "<shapely.geometry.collection.GeometryCollection at 0x7fd382889a10>"
      ]
     },
     "execution_count": 103,
     "metadata": {},
     "output_type": "execute_result"
    }
   ],
   "source": [
    "# 2.object.crosses(other)  \n",
    "# 如果一个object与另一个object是内部相交的关系而不是包含的关系，则返回True  \n",
    "print( geo.LineString(coords).crosses(geo.LineString([(0, 1), (1, 0)])))\n",
    "geo.GeometryCollection([ geo.LineString(coords),geo.Point(1.0, 1.0)])"
   ]
  },
  {
   "cell_type": "code",
   "execution_count": 104,
   "metadata": {
    "ExecuteTime": {
     "end_time": "2021-04-12T13:40:16.957603Z",
     "start_time": "2021-04-12T13:40:16.942261Z"
    }
   },
   "outputs": [
    {
     "name": "stdout",
     "output_type": "stream",
     "text": [
      "True\n"
     ]
    },
    {
     "data": {
      "image/svg+xml": [
       "<svg xmlns=\"http://www.w3.org/2000/svg\" xmlns:xlink=\"http://www.w3.org/1999/xlink\" width=\"100.0\" height=\"100.0\" viewBox=\"-0.04 -0.04 1.08 1.08\" preserveAspectRatio=\"xMinYMin meet\"><g transform=\"matrix(1,0,0,-1,0,1.0)\"><g><circle cx=\"0.0\" cy=\"0.0\" r=\"0.0324\" stroke=\"#555555\" stroke-width=\"0.0108\" fill=\"#66cc99\" opacity=\"0.6\" /><circle cx=\"1.0\" cy=\"1.0\" r=\"0.0324\" stroke=\"#555555\" stroke-width=\"0.0108\" fill=\"#66cc99\" opacity=\"0.6\" /></g></g></svg>"
      ],
      "text/plain": [
       "<shapely.geometry.collection.GeometryCollection at 0x7fd382884c50>"
      ]
     },
     "execution_count": 104,
     "metadata": {},
     "output_type": "execute_result"
    }
   ],
   "source": [
    "# 3.object.disjoint(other)\n",
    "# 如果该对象与另一个对象的内部和边界都不相交则返回True\n",
    "print(geo.Point(0, 0).disjoint(geo.Point(1, 1)))\n",
    "geo.GeometryCollection([ geo.Point(0, 0),geo.Point(1.0, 1.0)])"
   ]
  },
  {
   "cell_type": "code",
   "execution_count": 106,
   "metadata": {
    "ExecuteTime": {
     "end_time": "2021-04-12T13:42:19.430911Z",
     "start_time": "2021-04-12T13:42:19.414386Z"
    }
   },
   "outputs": [
    {
     "name": "stdout",
     "output_type": "stream",
     "text": [
      "True\n"
     ]
    },
    {
     "data": {
      "image/svg+xml": [
       "<svg xmlns=\"http://www.w3.org/2000/svg\" xmlns:xlink=\"http://www.w3.org/1999/xlink\" width=\"100.0\" height=\"100.0\" viewBox=\"-0.04 -0.04 1.08 1.08\" preserveAspectRatio=\"xMinYMin meet\"><g transform=\"matrix(1,0,0,-1,0,1.0)\"><g><polyline fill=\"none\" stroke=\"#66cc99\" stroke-width=\"0.0216\" points=\"0.0,0.0 1.0,1.0\" opacity=\"0.8\" /><polyline fill=\"none\" stroke=\"#66cc99\" stroke-width=\"0.0216\" points=\"0.0,1.0 1.0,0.0\" opacity=\"0.8\" /></g></g></svg>"
      ],
      "text/plain": [
       "<shapely.geometry.collection.GeometryCollection at 0x7fd382876350>"
      ]
     },
     "execution_count": 106,
     "metadata": {},
     "output_type": "execute_result"
    }
   ],
   "source": [
    "# 4.object.intersects(other)  \n",
    "# 如果该几何对象与另一个几何对象只要相交则返回True。 \n",
    "print( geo.LineString(coords).intersects(geo.LineString([(0, 1), (1, 0)])))\n",
    "geo.GeometryCollection([  geo.LineString(coords),geo.LineString([(0, 1), (1, 0)])])"
   ]
  },
  {
   "cell_type": "code",
   "execution_count": 107,
   "metadata": {
    "ExecuteTime": {
     "end_time": "2021-04-12T13:42:28.343425Z",
     "start_time": "2021-04-12T13:42:28.319531Z"
    }
   },
   "outputs": [
    {
     "data": {
      "image/svg+xml": [
       "<svg xmlns=\"http://www.w3.org/2000/svg\" xmlns:xlink=\"http://www.w3.org/1999/xlink\" width=\"100.0\" height=\"100.0\" viewBox=\"-0.12 -0.12 3.24 2.24\" preserveAspectRatio=\"xMinYMin meet\"><g transform=\"matrix(1,0,0,-1,0,2.0)\"><g><path fill-rule=\"evenodd\" fill=\"#66cc99\" stroke=\"#555555\" stroke-width=\"0.06480000000000001\" opacity=\"0.6\" d=\"M 0.0,0.0 L 0.0,2.0 L 2.0,2.0 L 3.0,1.0 L 1.0,0.0 L 0.0,0.0 z\" /><g><circle cx=\"0.0\" cy=\"0.0\" r=\"0.09720000000000001\" stroke=\"#555555\" stroke-width=\"0.032400000000000005\" fill=\"#66cc99\" opacity=\"0.6\" /><circle cx=\"1.0\" cy=\"1.0\" r=\"0.09720000000000001\" stroke=\"#555555\" stroke-width=\"0.032400000000000005\" fill=\"#66cc99\" opacity=\"0.6\" /><circle cx=\"0.0\" cy=\"2.0\" r=\"0.09720000000000001\" stroke=\"#555555\" stroke-width=\"0.032400000000000005\" fill=\"#66cc99\" opacity=\"0.6\" /><circle cx=\"2.0\" cy=\"2.0\" r=\"0.09720000000000001\" stroke=\"#555555\" stroke-width=\"0.032400000000000005\" fill=\"#66cc99\" opacity=\"0.6\" /><circle cx=\"3.0\" cy=\"1.0\" r=\"0.09720000000000001\" stroke=\"#555555\" stroke-width=\"0.032400000000000005\" fill=\"#66cc99\" opacity=\"0.6\" /><circle cx=\"1.0\" cy=\"0.0\" r=\"0.09720000000000001\" stroke=\"#555555\" stroke-width=\"0.032400000000000005\" fill=\"#66cc99\" opacity=\"0.6\" /></g></g></g></svg>"
      ],
      "text/plain": [
       "<shapely.geometry.collection.GeometryCollection at 0x7fd3827a4690>"
      ]
     },
     "execution_count": 107,
     "metadata": {},
     "output_type": "execute_result"
    }
   ],
   "source": [
    "# 在下图中即为在给定6个point之后求其凸包，并绘制出来的凸包图形\n",
    "points1 = geo.MultiPoint([(0, 0), (1, 1), (0, 2), (2, 2), (3, 1), (1, 0)])\n",
    "hull1 = points1.convex_hull\n",
    "geo.GeometryCollection([hull1,points1])"
   ]
  },
  {
   "cell_type": "code",
   "execution_count": 114,
   "metadata": {
    "ExecuteTime": {
     "end_time": "2021-04-12T13:44:06.913915Z",
     "start_time": "2021-04-12T13:44:06.891822Z"
    }
   },
   "outputs": [
    {
     "data": {
      "image/svg+xml": [
       "<svg xmlns=\"http://www.w3.org/2000/svg\" xmlns:xlink=\"http://www.w3.org/1999/xlink\" width=\"100.0\" height=\"100.0\" viewBox=\"-0.12 -0.12 3.24 2.24\" preserveAspectRatio=\"xMinYMin meet\"><g transform=\"matrix(1,0,0,-1,0,2.0)\"><g><path fill-rule=\"evenodd\" fill=\"#66cc99\" stroke=\"#555555\" stroke-width=\"0.06480000000000001\" opacity=\"0.6\" d=\"M 0.0,0.0 L 0.0,2.0 L 2.0,2.0 L 3.0,1.0 L 1.0,0.0 L 0.0,0.0 z\" /><path fill-rule=\"evenodd\" fill=\"#66cc99\" stroke=\"#555555\" stroke-width=\"0.06480000000000001\" opacity=\"0.6\" d=\"M 0.0,0.0 L 0.0,2.0 L 2.0,2.0 L 2.0,0.0 L 0.0,0.0 z\" /></g></g></svg>"
      ],
      "text/plain": [
       "<shapely.geometry.collection.GeometryCollection at 0x7fd382884490>"
      ]
     },
     "execution_count": 114,
     "metadata": {},
     "output_type": "execute_result"
    }
   ],
   "source": [
    "# object.intersection  返回对象与对象之间的交集\n",
    "polygon1 = Polygon( [(0, 0), (0, 2), (2, 2), (2, 0), (0, 0)])\n",
    "geo.GeometryCollection([hull1,polygon1])\n"
   ]
  },
  {
   "cell_type": "code",
   "execution_count": 115,
   "metadata": {
    "ExecuteTime": {
     "end_time": "2021-04-12T13:44:11.625359Z",
     "start_time": "2021-04-12T13:44:11.612523Z"
    }
   },
   "outputs": [
    {
     "data": {
      "image/svg+xml": [
       "<svg xmlns=\"http://www.w3.org/2000/svg\" xmlns:xlink=\"http://www.w3.org/1999/xlink\" width=\"100.0\" height=\"100.0\" viewBox=\"-0.08 -0.08 2.16 2.16\" preserveAspectRatio=\"xMinYMin meet\"><g transform=\"matrix(1,0,0,-1,0,2.0)\"><path fill-rule=\"evenodd\" fill=\"#66cc99\" stroke=\"#555555\" stroke-width=\"0.0432\" opacity=\"0.6\" d=\"M 0.0,0.0 L 0.0,2.0 L 2.0,2.0 L 2.0,0.5 L 1.0,0.0 L 0.0,0.0 z\" /></g></svg>"
      ],
      "text/plain": [
       "<shapely.geometry.polygon.Polygon at 0x7fd38282d990>"
      ]
     },
     "execution_count": 115,
     "metadata": {},
     "output_type": "execute_result"
    }
   ],
   "source": [
    "hull1.intersection(polygon1)"
   ]
  },
  {
   "cell_type": "code",
   "execution_count": 109,
   "metadata": {
    "ExecuteTime": {
     "end_time": "2021-04-12T13:43:06.086602Z",
     "start_time": "2021-04-12T13:43:06.072997Z"
    }
   },
   "outputs": [
    {
     "data": {
      "image/svg+xml": [
       "<svg xmlns=\"http://www.w3.org/2000/svg\" xmlns:xlink=\"http://www.w3.org/1999/xlink\" width=\"100.0\" height=\"100.0\" viewBox=\"-0.12 -0.12 3.24 2.24\" preserveAspectRatio=\"xMinYMin meet\"><g transform=\"matrix(1,0,0,-1,0,2.0)\"><path fill-rule=\"evenodd\" fill=\"#66cc99\" stroke=\"#555555\" stroke-width=\"0.06480000000000001\" opacity=\"0.6\" d=\"M 0.0,0.0 L 0.0,2.0 L 2.0,2.0 L 3.0,1.0 L 2.0,0.5 L 2.0,0.0 L 1.0,0.0 L 0.0,0.0 z\" /></g></svg>"
      ],
      "text/plain": [
       "<shapely.geometry.polygon.Polygon at 0x7fd382840dd0>"
      ]
     },
     "execution_count": 109,
     "metadata": {},
     "output_type": "execute_result"
    }
   ],
   "source": [
    "#返回对象与对象之间的并集\n",
    "hull1.union(polygon1)"
   ]
  },
  {
   "cell_type": "code",
   "execution_count": 116,
   "metadata": {
    "ExecuteTime": {
     "end_time": "2021-04-12T13:44:32.621371Z",
     "start_time": "2021-04-12T13:44:32.612325Z"
    }
   },
   "outputs": [
    {
     "data": {
      "image/svg+xml": [
       "<svg xmlns=\"http://www.w3.org/2000/svg\" xmlns:xlink=\"http://www.w3.org/1999/xlink\" width=\"100.0\" height=\"100.0\" viewBox=\"1.94 0.44 1.12 1.62\" preserveAspectRatio=\"xMinYMin meet\"><g transform=\"matrix(1,0,0,-1,0,2.5)\"><path fill-rule=\"evenodd\" fill=\"#66cc99\" stroke=\"#555555\" stroke-width=\"0.032400000000000005\" opacity=\"0.6\" d=\"M 2.0,2.0 L 3.0,1.0 L 2.0,0.5 L 2.0,2.0 z\" /></g></svg>"
      ],
      "text/plain": [
       "<shapely.geometry.polygon.Polygon at 0x7fd382889810>"
      ]
     },
     "execution_count": 116,
     "metadata": {},
     "output_type": "execute_result"
    }
   ],
   "source": [
    "hull1.difference(polygon1) #面面补集"
   ]
  },
  {
   "cell_type": "code",
   "execution_count": 117,
   "metadata": {
    "ExecuteTime": {
     "end_time": "2021-04-12T13:44:50.891444Z",
     "start_time": "2021-04-12T13:44:50.880393Z"
    }
   },
   "outputs": [
    {
     "data": {
      "image/svg+xml": [
       "<svg xmlns=\"http://www.w3.org/2000/svg\" xmlns:xlink=\"http://www.w3.org/1999/xlink\" width=\"100.0\" height=\"100.0\" viewBox=\"0.96 -0.04 1.08 0.5800000000000001\" preserveAspectRatio=\"xMinYMin meet\"><g transform=\"matrix(1,0,0,-1,0,0.5)\"><path fill-rule=\"evenodd\" fill=\"#66cc99\" stroke=\"#555555\" stroke-width=\"0.0216\" opacity=\"0.6\" d=\"M 2.0,0.5 L 2.0,0.0 L 1.0,0.0 L 2.0,0.5 z\" /></g></svg>"
      ],
      "text/plain": [
       "<shapely.geometry.polygon.Polygon at 0x7fd382884110>"
      ]
     },
     "execution_count": 117,
     "metadata": {},
     "output_type": "execute_result"
    }
   ],
   "source": [
    "polygon1.difference(hull1) #面面补集"
   ]
  },
  {
   "cell_type": "code",
   "execution_count": 118,
   "metadata": {
    "ExecuteTime": {
     "end_time": "2021-04-12T13:45:14.085554Z",
     "start_time": "2021-04-12T13:45:14.075413Z"
    }
   },
   "outputs": [],
   "source": [
    "# 6.与numpy和python数组之间的关系\n",
    "# point、LineRing和LineString提供numpy数组接口，可以进行转换numpy数组\n",
    "from shapely.geometry import asPoint,asLineString,asMultiPoint,asPolygon\n",
    "import numpy as np\n",
    "pa = asPoint(np.array([0.0, 0.0]))#将numpy数组转换成point格式"
   ]
  },
  {
   "cell_type": "code",
   "execution_count": 121,
   "metadata": {
    "ExecuteTime": {
     "end_time": "2021-04-12T13:45:48.033754Z",
     "start_time": "2021-04-12T13:45:48.014367Z"
    }
   },
   "outputs": [
    {
     "name": "stdout",
     "output_type": "stream",
     "text": [
      "[0. 0.]\n"
     ]
    }
   ],
   "source": [
    "la = asLineString(np.array([[1.0, 2.0], [3.0, 4.0]]))#将numpy数组转换成LineString格式\n",
    "ma = asMultiPoint(np.array([[1.1, 2.2], [3.3, 4.4], [5.5, 6.6]]))#将numpy数组转换成multipoint集合\n",
    "pg = asPolygon(np.array([[1.1, 2.2], [3.3, 4.4], [5.5, 6.6]]))#将numpy数组转换成polygon\n",
    "print(np.array(pa))#将Point转换成numpy格式"
   ]
  },
  {
   "cell_type": "markdown",
   "metadata": {},
   "source": [
    "另外还有一些非常有用但是不属于某个类方法的函数，如有需要可以在官网查阅\n",
    "- ops.nearest_points 求最近点\n",
    "- ops.split 分割线\n",
    "- ops.substring  求子串\n",
    "- affinity.rotate 旋转几何体\n",
    "- affinity.scale 缩放几何体\n",
    "- affinity.translate 平移几何体"
   ]
  },
  {
   "cell_type": "markdown",
   "metadata": {},
   "source": [
    "## [geopandas](https://geopandas.org/)\n",
    "GeoPandas提供了地理空间数据的高级接口，它让使用python处理地理空间数据变得更容易。GeoPandas扩展了pandas使用的数据类型，允许对几何类型进行空间操作。几何运算由shapely执行。Geopandas进一步依赖fiona进行文件访问，依赖matplotlib进行绘图。"
   ]
  },
  {
   "cell_type": "markdown",
   "metadata": {
    "ExecuteTime": {
     "end_time": "2021-04-12T13:47:37.183239Z",
     "start_time": "2021-04-12T13:47:37.150520Z"
    }
   },
   "source": [
    "geopandas和pandas一样，一共有两种数据类型：\n",
    "- GeoSeries\n",
    "- GeoDataFrame\n",
    "它们继承了pandas数据结构的大部分方法。这两个数据结构可以当做地理空间数据的存储器，shapefile文件的pandas呈现。  \n",
    "\n",
    "Shapefile文件用于描述几何体对象：点，折线与多边形。例如，Shapefile文件可以存储井、河流、湖泊等空间对象的几何位置。除了几何位置，shp文件也可以存储这些空间对象的属性，例如一条河流的名字，一个城市的温度等等。\n",
    "\n",
    "例如，当安装geopandas库后，便可通过matplotlib直接画出当安装geopandas数据集中的世界地图"
   ]
  },
  {
   "cell_type": "code",
   "execution_count": 123,
   "metadata": {
    "ExecuteTime": {
     "end_time": "2021-04-12T13:48:13.540042Z",
     "start_time": "2021-04-12T13:48:11.699627Z"
    }
   },
   "outputs": [
    {
     "data": {
      "image/png": "[encoded data removed]",
      "text/plain": [
       "<Figure size 432x288 with 1 Axes>"
      ]
     },
     "metadata": {
      "needs_background": "light"
     },
     "output_type": "display_data"
    }
   ],
   "source": [
    "import pandas as pd\n",
    "import geopandas\n",
    "import matplotlib.pyplot as plt\n",
    "world = geopandas.read_file(geopandas.datasets.get_path('naturalearth_lowres'))#read_file方法可以读取shape文件，转化为GeoSeries和GeoDataFrame数据类型。\n",
    "world.plot()#将GeoDataFrame变成图形展示出来，得到世界地图\n",
    "plt.show()"
   ]
  },
  {
   "cell_type": "code",
   "execution_count": 124,
   "metadata": {
    "ExecuteTime": {
     "end_time": "2021-04-12T13:48:31.474081Z",
     "start_time": "2021-04-12T13:48:31.424117Z"
    }
   },
   "outputs": [
    {
     "data": {
      "text/html": [
       "<div>\n",
       "<style scoped>\n",
       "    .dataframe tbody tr th:only-of-type {\n",
       "        vertical-align: middle;\n",
       "    }\n",
       "\n",
       "    .dataframe tbody tr th {\n",
       "        vertical-align: top;\n",
       "    }\n",
       "\n",
       "    .dataframe thead th {\n",
       "        text-align: right;\n",
       "    }\n",
       "</style>\n",
       "<table border=\"1\" class=\"dataframe\">\n",
       "  <thead>\n",
       "    <tr style=\"text-align: right;\">\n",
       "      <th></th>\n",
       "      <th>pop_est</th>\n",
       "      <th>continent</th>\n",
       "      <th>name</th>\n",
       "      <th>iso_a3</th>\n",
       "      <th>gdp_md_est</th>\n",
       "      <th>geometry</th>\n",
       "    </tr>\n",
       "  </thead>\n",
       "  <tbody>\n",
       "    <tr>\n",
       "      <th>0</th>\n",
       "      <td>920938</td>\n",
       "      <td>Oceania</td>\n",
       "      <td>Fiji</td>\n",
       "      <td>FJI</td>\n",
       "      <td>8374.0</td>\n",
       "      <td>MULTIPOLYGON (((180.00000 -16.06713, 180.00000...</td>\n",
       "    </tr>\n",
       "    <tr>\n",
       "      <th>1</th>\n",
       "      <td>53950935</td>\n",
       "      <td>Africa</td>\n",
       "      <td>Tanzania</td>\n",
       "      <td>TZA</td>\n",
       "      <td>150600.0</td>\n",
       "      <td>POLYGON ((33.90371 -0.95000, 34.07262 -1.05982...</td>\n",
       "    </tr>\n",
       "    <tr>\n",
       "      <th>2</th>\n",
       "      <td>603253</td>\n",
       "      <td>Africa</td>\n",
       "      <td>W. Sahara</td>\n",
       "      <td>ESH</td>\n",
       "      <td>906.5</td>\n",
       "      <td>POLYGON ((-8.66559 27.65643, -8.66512 27.58948...</td>\n",
       "    </tr>\n",
       "    <tr>\n",
       "      <th>3</th>\n",
       "      <td>35623680</td>\n",
       "      <td>North America</td>\n",
       "      <td>Canada</td>\n",
       "      <td>CAN</td>\n",
       "      <td>1674000.0</td>\n",
       "      <td>MULTIPOLYGON (((-122.84000 49.00000, -122.9742...</td>\n",
       "    </tr>\n",
       "    <tr>\n",
       "      <th>4</th>\n",
       "      <td>326625791</td>\n",
       "      <td>North America</td>\n",
       "      <td>United States of America</td>\n",
       "      <td>USA</td>\n",
       "      <td>18560000.0</td>\n",
       "      <td>MULTIPOLYGON (((-122.84000 49.00000, -120.0000...</td>\n",
       "    </tr>\n",
       "  </tbody>\n",
       "</table>\n",
       "</div>"
      ],
      "text/plain": [
       "     pop_est      continent                      name iso_a3  gdp_md_est  \\\n",
       "0     920938        Oceania                      Fiji    FJI      8374.0   \n",
       "1   53950935         Africa                  Tanzania    TZA    150600.0   \n",
       "2     603253         Africa                 W. Sahara    ESH       906.5   \n",
       "3   35623680  North America                    Canada    CAN   1674000.0   \n",
       "4  326625791  North America  United States of America    USA  18560000.0   \n",
       "\n",
       "                                            geometry  \n",
       "0  MULTIPOLYGON (((180.00000 -16.06713, 180.00000...  \n",
       "1  POLYGON ((33.90371 -0.95000, 34.07262 -1.05982...  \n",
       "2  POLYGON ((-8.66559 27.65643, -8.66512 27.58948...  \n",
       "3  MULTIPOLYGON (((-122.84000 49.00000, -122.9742...  \n",
       "4  MULTIPOLYGON (((-122.84000 49.00000, -120.0000...  "
      ]
     },
     "execution_count": 124,
     "metadata": {},
     "output_type": "execute_result"
    }
   ],
   "source": [
    "world.head()"
   ]
  },
  {
   "cell_type": "code",
   "execution_count": 125,
   "metadata": {
    "ExecuteTime": {
     "end_time": "2021-04-12T14:10:07.931837Z",
     "start_time": "2021-04-12T14:10:07.276817Z"
    }
   },
   "outputs": [
    {
     "data": {
      "image/png": "[encoded data removed]",
      "text/plain": [
       "<Figure size 900x600 with 2 Axes>"
      ]
     },
     "metadata": {
      "needs_background": "light"
     },
     "output_type": "display_data"
    }
   ],
   "source": [
    "#根据每一个polygon的pop_est不同，便可以用python绘制图表显示不同国家的人数\n",
    "fig, ax = plt.subplots(figsize=(9,6),dpi = 100)\n",
    "world.plot('pop_est',ax = ax,legend = True)\n",
    "plt.show()"
   ]
  },
  {
   "cell_type": "markdown",
   "metadata": {},
   "source": [
    "由以上geodataframe的实例world可知，其最后一列是geometry。其几何对象包括了MULTIPOLYGON 、POLYGON，那么便同样可以用刚才介绍的shapely库进行分析。\n",
    "\n"
   ]
  },
  {
   "cell_type": "markdown",
   "metadata": {
    "ExecuteTime": {
     "end_time": "2021-04-12T14:10:55.770924Z",
     "start_time": "2021-04-12T14:10:55.763662Z"
    }
   },
   "source": [
    "## Folium\n",
    "[官方文档](https://python-visualization.github.io/folium/index.html)\n",
    "\n"
   ]
  },
  {
   "cell_type": "code",
   "execution_count": null,
   "metadata": {
    "ExecuteTime": {
     "end_time": "2021-04-13T02:48:50.278343Z",
     "start_time": "2021-04-13T02:27:06.547Z"
    }
   },
   "outputs": [],
   "source": [
    "'''\n",
    "folium可以满足我们平时常用的热力图、填充地图、路径图、散点标记等高频可视化场景.folium也可以通过flask让地图和我们的数据在网页上显示，极其便利。\n",
    "\n",
    "【Folium map参数】\n",
    "location: tuple:或st类型输入,用于控制初始地图中心点的坐标,格式为(纬度,经度)或[纬度,经度],默认为None\n",
    "width:int型或st型,int型时,传入的是地图宽度的素值;str型时,传入的是地图宽度的百分比,形式为xx%。默认为100%\n",
    "height:控制地图的高度,格式同 width\n",
    "titles:str型,用于控制绘图调用的地图样式,默认为 OpenStreetMap,也有一些其他的内建地图样式,如 Stamen Terrain、Stamen Toner\n",
    "Mapbox Bright、 Mapbox Control Room 等;也可以传入None来绘制一个没有风格的朴素地图,或传入一个URl来使用其它的自选osm\n",
    "max_zoom:int型,控制地图可以放大程度的上限,默认为18\n",
    "attr:str型,当在tes中使用自选UR内的osm时使用,用于给自选osm命名\n",
    "control_scale:bool型,控制是否在地图上添加例尺,默认为 False即不添加\n",
    "no_touch:bool型,控制地图是否禁止接受来设备的触控事件警如拖拽等,默认为False,即不禁止\n",
    "'''\n"
   ]
  },
  {
   "cell_type": "code",
   "execution_count": 130,
   "metadata": {
    "ExecuteTime": {
     "end_time": "2021-04-12T14:11:27.204511Z",
     "start_time": "2021-04-12T14:11:26.603136Z"
    },
    "scrolled": true
   },
   "outputs": [
    {
     "data": {
      "text/html": [
       "<div style=\"width:100%;\"><div style=\"position:relative;width:100%;height:0;padding-bottom:60%;\"><span style=\"color:#565656\">Make this Notebook Trusted to load map: File -> Trust Notebook</span><iframe src=\"about:blank\" style=\"position:absolute;width:100%;height:100%;left:0;top:0;border:none !important;\" data-html=%3C%21DOCTYPE%20html%3E%0A%3Chead%3E%20%20%20%20%0A%20%20%20%20%3Cmeta%20http-equiv%3D%22content-type%22%20content%3D%22text/html%3B%20charset%3DUTF-8%22%20/%3E%0A%20%20%20%20%0A%20%20%20%20%20%20%20%20%3Cscript%3E%0A%20%20%20%20%20%20%20%20%20%20%20%20L_NO_TOUCH%20%3D%20false%3B%0A%20%20%20%20%20%20%20%20%20%20%20%20L_DISABLE_3D%20%3D%20false%3B%0A%20%20%20%20%20%20%20%20%3C/script%3E%0A%20%20%20%20%0A%20%20%20%20%3Cstyle%3Ehtml%2C%20body%20%7Bwidth%3A%20100%25%3Bheight%3A%20100%25%3Bmargin%3A%200%3Bpadding%3A%200%3B%7D%3C/style%3E%0A%20%20%20%20%3Cstyle%3E%23map%20%7Bposition%3Aabsolute%3Btop%3A0%3Bbottom%3A0%3Bright%3A0%3Bleft%3A0%3B%7D%3C/style%3E%0A%20%20%20%20%3Cscript%20src%3D%22https%3A//cdn.jsdelivr.net/npm/leaflet%401.6.0/dist/leaflet.js%22%3E%3C/script%3E%0A%20%20%20%20%3Cscript%20src%3D%22https%3A//code.jquery.com/jquery-1.12.4.min.js%22%3E%3C/script%3E%0A%20%20%20%20%3Cscript%20src%3D%22https%3A//maxcdn.bootstrapcdn.com/bootstrap/3.2.0/js/bootstrap.min.js%22%3E%3C/script%3E%0A%20%20%20%20%3Cscript%20src%3D%22https%3A//cdnjs.cloudflare.com/ajax/libs/Leaflet.awesome-markers/2.0.2/leaflet.awesome-markers.js%22%3E%3C/script%3E%0A%20%20%20%20%3Clink%20rel%3D%22stylesheet%22%20href%3D%22https%3A//cdn.jsdelivr.net/npm/leaflet%401.6.0/dist/leaflet.css%22/%3E%0A%20%20%20%20%3Clink%20rel%3D%22stylesheet%22%20href%3D%22https%3A//maxcdn.bootstrapcdn.com/bootstrap/3.2.0/css/bootstrap.min.css%22/%3E%0A%20%20%20%20%3Clink%20rel%3D%22stylesheet%22%20href%3D%22https%3A//maxcdn.bootstrapcdn.com/bootstrap/3.2.0/css/bootstrap-theme.min.css%22/%3E%0A%20%20%20%20%3Clink%20rel%3D%22stylesheet%22%20href%3D%22https%3A//maxcdn.bootstrapcdn.com/font-awesome/4.6.3/css/font-awesome.min.css%22/%3E%0A%20%20%20%20%3Clink%20rel%3D%22stylesheet%22%20href%3D%22https%3A//cdnjs.cloudflare.com/ajax/libs/Leaflet.awesome-markers/2.0.2/leaflet.awesome-markers.css%22/%3E%0A%20%20%20%20%3Clink%20rel%3D%22stylesheet%22%20href%3D%22https%3A//cdn.jsdelivr.net/gh/python-visualization/folium/folium/templates/leaflet.awesome.rotate.min.css%22/%3E%0A%20%20%20%20%0A%20%20%20%20%20%20%20%20%20%20%20%20%3Cmeta%20name%3D%22viewport%22%20content%3D%22width%3Ddevice-width%2C%0A%20%20%20%20%20%20%20%20%20%20%20%20%20%20%20%20initial-scale%3D1.0%2C%20maximum-scale%3D1.0%2C%20user-scalable%3Dno%22%20/%3E%0A%20%20%20%20%20%20%20%20%20%20%20%20%3Cstyle%3E%0A%20%20%20%20%20%20%20%20%20%20%20%20%20%20%20%20%23map_b37b240c4cc6416490aea4aebfc551ec%20%7B%0A%20%20%20%20%20%20%20%20%20%20%20%20%20%20%20%20%20%20%20%20position%3A%20relative%3B%0A%20%20%20%20%20%20%20%20%20%20%20%20%20%20%20%20%20%20%20%20width%3A%20100.0%25%3B%0A%20%20%20%20%20%20%20%20%20%20%20%20%20%20%20%20%20%20%20%20height%3A%20100.0%25%3B%0A%20%20%20%20%20%20%20%20%20%20%20%20%20%20%20%20%20%20%20%20left%3A%200.0%25%3B%0A%20%20%20%20%20%20%20%20%20%20%20%20%20%20%20%20%20%20%20%20top%3A%200.0%25%3B%0A%20%20%20%20%20%20%20%20%20%20%20%20%20%20%20%20%7D%0A%20%20%20%20%20%20%20%20%20%20%20%20%3C/style%3E%0A%20%20%20%20%20%20%20%20%0A%3C/head%3E%0A%3Cbody%3E%20%20%20%20%0A%20%20%20%20%0A%20%20%20%20%20%20%20%20%20%20%20%20%3Cdiv%20class%3D%22folium-map%22%20id%3D%22map_b37b240c4cc6416490aea4aebfc551ec%22%20%3E%3C/div%3E%0A%20%20%20%20%20%20%20%20%0A%3C/body%3E%0A%3Cscript%3E%20%20%20%20%0A%20%20%20%20%0A%20%20%20%20%20%20%20%20%20%20%20%20var%20map_b37b240c4cc6416490aea4aebfc551ec%20%3D%20L.map%28%0A%20%20%20%20%20%20%20%20%20%20%20%20%20%20%20%20%22map_b37b240c4cc6416490aea4aebfc551ec%22%2C%0A%20%20%20%20%20%20%20%20%20%20%20%20%20%20%20%20%7B%0A%20%20%20%20%20%20%20%20%20%20%20%20%20%20%20%20%20%20%20%20center%3A%20%5B39.9%2C%20116.4%5D%2C%0A%20%20%20%20%20%20%20%20%20%20%20%20%20%20%20%20%20%20%20%20crs%3A%20L.CRS.EPSG3857%2C%0A%20%20%20%20%20%20%20%20%20%20%20%20%20%20%20%20%20%20%20%20zoom%3A%2010%2C%0A%20%20%20%20%20%20%20%20%20%20%20%20%20%20%20%20%20%20%20%20zoomControl%3A%20true%2C%0A%20%20%20%20%20%20%20%20%20%20%20%20%20%20%20%20%20%20%20%20preferCanvas%3A%20false%2C%0A%20%20%20%20%20%20%20%20%20%20%20%20%20%20%20%20%7D%0A%20%20%20%20%20%20%20%20%20%20%20%20%29%3B%0A%0A%20%20%20%20%20%20%20%20%20%20%20%20%0A%0A%20%20%20%20%20%20%20%20%0A%20%20%20%20%0A%20%20%20%20%20%20%20%20%20%20%20%20var%20tile_layer_b3c0bf3bf2d44dd19dfe0ce2fab7b233%20%3D%20L.tileLayer%28%0A%20%20%20%20%20%20%20%20%20%20%20%20%20%20%20%20%22https%3A//%7Bs%7D.tile.openstreetmap.org/%7Bz%7D/%7Bx%7D/%7By%7D.png%22%2C%0A%20%20%20%20%20%20%20%20%20%20%20%20%20%20%20%20%7B%22attribution%22%3A%20%22Data%20by%20%5Cu0026copy%3B%20%5Cu003ca%20href%3D%5C%22http%3A//openstreetmap.org%5C%22%5Cu003eOpenStreetMap%5Cu003c/a%5Cu003e%2C%20under%20%5Cu003ca%20href%3D%5C%22http%3A//www.openstreetmap.org/copyright%5C%22%5Cu003eODbL%5Cu003c/a%5Cu003e.%22%2C%20%22detectRetina%22%3A%20false%2C%20%22maxNativeZoom%22%3A%2018%2C%20%22maxZoom%22%3A%2018%2C%20%22minZoom%22%3A%200%2C%20%22noWrap%22%3A%20false%2C%20%22opacity%22%3A%201%2C%20%22subdomains%22%3A%20%22abc%22%2C%20%22tms%22%3A%20false%7D%0A%20%20%20%20%20%20%20%20%20%20%20%20%29.addTo%28map_b37b240c4cc6416490aea4aebfc551ec%29%3B%0A%20%20%20%20%20%20%20%20%0A%3C/script%3E onload=\"this.contentDocument.open();this.contentDocument.write(    decodeURIComponent(this.getAttribute('data-html')));this.contentDocument.close();\" allowfullscreen webkitallowfullscreen mozallowfullscreen></iframe></div></div>"
      ],
      "text/plain": [
       "<folium.folium.Map at 0x7fd384d25a50>"
      ]
     },
     "execution_count": 130,
     "metadata": {},
     "output_type": "execute_result"
    }
   ],
   "source": [
    "import folium\n",
    "import os\n",
    "#首先，创建一张指定中心坐标的地图，这里将其中心坐标设置为北京。\n",
    "# zoom_start表示初始地图的缩放尺寸，数值越大放大程度越大\n",
    "m=folium.Map(location=[39.9,116.4],zoom_start=10)\n",
    "m"
   ]
  },
  {
   "cell_type": "markdown",
   "metadata": {},
   "source": [
    "用Folium绘制热力图示例"
   ]
  },
  {
   "cell_type": "code",
   "execution_count": 131,
   "metadata": {
    "ExecuteTime": {
     "end_time": "2021-04-12T14:14:49.266319Z",
     "start_time": "2021-04-12T14:14:49.082548Z"
    }
   },
   "outputs": [],
   "source": [
    "import folium\n",
    "import numpy as np\n",
    "from folium.plugins import HeatMap\n",
    "#先手动生成data数据，该数据格式由[纬度，经度，数值]构成\n",
    "data=(np.random.normal(size=(100,3))*np.array([[1,1,1]])+np.array([[48,5,1]])).tolist()\n",
    "# data"
   ]
  },
  {
   "cell_type": "code",
   "execution_count": 132,
   "metadata": {
    "ExecuteTime": {
     "end_time": "2021-04-12T14:14:55.609643Z",
     "start_time": "2021-04-12T14:14:55.575379Z"
    }
   },
   "outputs": [
    {
     "data": {
      "text/html": [
       "<div style=\"width:100%;\"><div style=\"position:relative;width:100%;height:0;padding-bottom:60%;\"><span style=\"color:#565656\">Make this Notebook Trusted to load map: File -> Trust Notebook</span><iframe src=\"about:blank\" style=\"position:absolute;width:100%;height:100%;left:0;top:0;border:none !important;\" data-html=%3C%21DOCTYPE%20html%3E%0A%3Chead%3E%20%20%20%20%0A%20%20%20%20%3Cmeta%20http-equiv%3D%22content-type%22%20content%3D%22text/html%3B%20charset%3DUTF-8%22%20/%3E%0A%20%20%20%20%0A%20%20%20%20%20%20%20%20%3Cscript%3E%0A%20%20%20%20%20%20%20%20%20%20%20%20L_NO_TOUCH%20%3D%20false%3B%0A%20%20%20%20%20%20%20%20%20%20%20%20L_DISABLE_3D%20%3D%20false%3B%0A%20%20%20%20%20%20%20%20%3C/script%3E%0A%20%20%20%20%0A%20%20%20%20%3Cstyle%3Ehtml%2C%20body%20%7Bwidth%3A%20100%25%3Bheight%3A%20100%25%3Bmargin%3A%200%3Bpadding%3A%200%3B%7D%3C/style%3E%0A%20%20%20%20%3Cstyle%3E%23map%20%7Bposition%3Aabsolute%3Btop%3A0%3Bbottom%3A0%3Bright%3A0%3Bleft%3A0%3B%7D%3C/style%3E%0A%20%20%20%20%3Cscript%20src%3D%22https%3A//cdn.jsdelivr.net/npm/leaflet%401.6.0/dist/leaflet.js%22%3E%3C/script%3E%0A%20%20%20%20%3Cscript%20src%3D%22https%3A//code.jquery.com/jquery-1.12.4.min.js%22%3E%3C/script%3E%0A%20%20%20%20%3Cscript%20src%3D%22https%3A//maxcdn.bootstrapcdn.com/bootstrap/3.2.0/js/bootstrap.min.js%22%3E%3C/script%3E%0A%20%20%20%20%3Cscript%20src%3D%22https%3A//cdnjs.cloudflare.com/ajax/libs/Leaflet.awesome-markers/2.0.2/leaflet.awesome-markers.js%22%3E%3C/script%3E%0A%20%20%20%20%3Clink%20rel%3D%22stylesheet%22%20href%3D%22https%3A//cdn.jsdelivr.net/npm/leaflet%401.6.0/dist/leaflet.css%22/%3E%0A%20%20%20%20%3Clink%20rel%3D%22stylesheet%22%20href%3D%22https%3A//maxcdn.bootstrapcdn.com/bootstrap/3.2.0/css/bootstrap.min.css%22/%3E%0A%20%20%20%20%3Clink%20rel%3D%22stylesheet%22%20href%3D%22https%3A//maxcdn.bootstrapcdn.com/bootstrap/3.2.0/css/bootstrap-theme.min.css%22/%3E%0A%20%20%20%20%3Clink%20rel%3D%22stylesheet%22%20href%3D%22https%3A//maxcdn.bootstrapcdn.com/font-awesome/4.6.3/css/font-awesome.min.css%22/%3E%0A%20%20%20%20%3Clink%20rel%3D%22stylesheet%22%20href%3D%22https%3A//cdnjs.cloudflare.com/ajax/libs/Leaflet.awesome-markers/2.0.2/leaflet.awesome-markers.css%22/%3E%0A%20%20%20%20%3Clink%20rel%3D%22stylesheet%22%20href%3D%22https%3A//cdn.jsdelivr.net/gh/python-visualization/folium/folium/templates/leaflet.awesome.rotate.min.css%22/%3E%0A%20%20%20%20%0A%20%20%20%20%20%20%20%20%20%20%20%20%3Cmeta%20name%3D%22viewport%22%20content%3D%22width%3Ddevice-width%2C%0A%20%20%20%20%20%20%20%20%20%20%20%20%20%20%20%20initial-scale%3D1.0%2C%20maximum-scale%3D1.0%2C%20user-scalable%3Dno%22%20/%3E%0A%20%20%20%20%20%20%20%20%20%20%20%20%3Cstyle%3E%0A%20%20%20%20%20%20%20%20%20%20%20%20%20%20%20%20%23map_3ac63b1e0b594806bc9d920351152dc1%20%7B%0A%20%20%20%20%20%20%20%20%20%20%20%20%20%20%20%20%20%20%20%20position%3A%20relative%3B%0A%20%20%20%20%20%20%20%20%20%20%20%20%20%20%20%20%20%20%20%20width%3A%20100.0%25%3B%0A%20%20%20%20%20%20%20%20%20%20%20%20%20%20%20%20%20%20%20%20height%3A%20100.0%25%3B%0A%20%20%20%20%20%20%20%20%20%20%20%20%20%20%20%20%20%20%20%20left%3A%200.0%25%3B%0A%20%20%20%20%20%20%20%20%20%20%20%20%20%20%20%20%20%20%20%20top%3A%200.0%25%3B%0A%20%20%20%20%20%20%20%20%20%20%20%20%20%20%20%20%7D%0A%20%20%20%20%20%20%20%20%20%20%20%20%3C/style%3E%0A%20%20%20%20%20%20%20%20%0A%20%20%20%20%3Cscript%20src%3D%22https%3A//cdn.jsdelivr.net/gh/python-visualization/folium%40master/folium/templates/leaflet_heat.min.js%22%3E%3C/script%3E%0A%3C/head%3E%0A%3Cbody%3E%20%20%20%20%0A%20%20%20%20%0A%20%20%20%20%20%20%20%20%20%20%20%20%3Cdiv%20class%3D%22folium-map%22%20id%3D%22map_3ac63b1e0b594806bc9d920351152dc1%22%20%3E%3C/div%3E%0A%20%20%20%20%20%20%20%20%0A%3C/body%3E%0A%3Cscript%3E%20%20%20%20%0A%20%20%20%20%0A%20%20%20%20%20%20%20%20%20%20%20%20var%20map_3ac63b1e0b594806bc9d920351152dc1%20%3D%20L.map%28%0A%20%20%20%20%20%20%20%20%20%20%20%20%20%20%20%20%22map_3ac63b1e0b594806bc9d920351152dc1%22%2C%0A%20%20%20%20%20%20%20%20%20%20%20%20%20%20%20%20%7B%0A%20%20%20%20%20%20%20%20%20%20%20%20%20%20%20%20%20%20%20%20center%3A%20%5B48.0%2C%205.0%5D%2C%0A%20%20%20%20%20%20%20%20%20%20%20%20%20%20%20%20%20%20%20%20crs%3A%20L.CRS.EPSG3857%2C%0A%20%20%20%20%20%20%20%20%20%20%20%20%20%20%20%20%20%20%20%20zoom%3A%206%2C%0A%20%20%20%20%20%20%20%20%20%20%20%20%20%20%20%20%20%20%20%20zoomControl%3A%20true%2C%0A%20%20%20%20%20%20%20%20%20%20%20%20%20%20%20%20%20%20%20%20preferCanvas%3A%20false%2C%0A%20%20%20%20%20%20%20%20%20%20%20%20%20%20%20%20%7D%0A%20%20%20%20%20%20%20%20%20%20%20%20%29%3B%0A%0A%20%20%20%20%20%20%20%20%20%20%20%20%0A%0A%20%20%20%20%20%20%20%20%0A%20%20%20%20%0A%20%20%20%20%20%20%20%20%20%20%20%20var%20tile_layer_739b7ab13b154dd69c796164b13ac08a%20%3D%20L.tileLayer%28%0A%20%20%20%20%20%20%20%20%20%20%20%20%20%20%20%20%22https%3A//stamen-tiles-%7Bs%7D.a.ssl.fastly.net/toner/%7Bz%7D/%7Bx%7D/%7By%7D.png%22%2C%0A%20%20%20%20%20%20%20%20%20%20%20%20%20%20%20%20%7B%22attribution%22%3A%20%22Map%20tiles%20by%20%5Cu003ca%20href%3D%5C%22http%3A//stamen.com%5C%22%5Cu003eStamen%20Design%5Cu003c/a%5Cu003e%2C%20under%20%5Cu003ca%20href%3D%5C%22http%3A//creativecommons.org/licenses/by/3.0%5C%22%5Cu003eCC%20BY%203.0%5Cu003c/a%5Cu003e.%20Data%20by%20%5Cu0026copy%3B%20%5Cu003ca%20href%3D%5C%22http%3A//openstreetmap.org%5C%22%5Cu003eOpenStreetMap%5Cu003c/a%5Cu003e%2C%20under%20%5Cu003ca%20href%3D%5C%22http%3A//www.openstreetmap.org/copyright%5C%22%5Cu003eODbL%5Cu003c/a%5Cu003e.%22%2C%20%22detectRetina%22%3A%20false%2C%20%22maxNativeZoom%22%3A%2018%2C%20%22maxZoom%22%3A%2018%2C%20%22minZoom%22%3A%200%2C%20%22noWrap%22%3A%20false%2C%20%22opacity%22%3A%201%2C%20%22subdomains%22%3A%20%22abc%22%2C%20%22tms%22%3A%20false%7D%0A%20%20%20%20%20%20%20%20%20%20%20%20%29.addTo%28map_3ac63b1e0b594806bc9d920351152dc1%29%3B%0A%20%20%20%20%20%20%20%20%0A%20%20%20%20%0A%20%20%20%20%20%20%20%20%20%20%20%20var%20heat_map_2c4e7ab0cf9448e6bb7dfa0c3884a83b%20%3D%20L.heatLayer%28%0A%20%20%20%20%20%20%20%20%20%20%20%20%20%20%20%20%5B%5B47.55656704368514%2C%204.698299675453119%2C%201.166596895147317%5D%2C%20%5B49.11090834822845%2C%205.213654596022503%2C%20-0.4925379033694286%5D%2C%20%5B47.93732915944338%2C%203.928049261509745%2C%20-0.49220221876472436%5D%2C%20%5B47.00876360885041%2C%205.12092808960201%2C%203.6643703579880818%5D%2C%20%5B47.637496262484596%2C%204.78227776204393%2C%200.790516400209769%5D%2C%20%5B46.9725343117754%2C%203.8874948436083585%2C%201.7468774059421293%5D%2C%20%5B47.99771174206776%2C%204.835046768395043%2C%201.5117860731382762%5D%2C%20%5B47.89671814965745%2C%204.806984403469794%2C%201.9163750768202248%5D%2C%20%5B48.66858644030232%2C%204.793753585286018%2C%200.9039742003802473%5D%2C%20%5B48.976392825514885%2C%205.105701958415785%2C%201.9082552947711129%5D%2C%20%5B48.16266204480678%2C%204.862063525421774%2C%201.5159746785420702%5D%2C%20%5B48.34489209069065%2C%204.3366487793254205%2C%20-0.01682943192773445%5D%2C%20%5B48.56471920209827%2C%204.7019260897299%2C%202.09123193636366%5D%2C%20%5B47.83305403020378%2C%205.675697036807444%2C%200.6240162607861315%5D%2C%20%5B48.24329449318805%2C%204.67392390885743%2C%20-0.43078949236344033%5D%2C%20%5B48.24785366718102%2C%204.551191433000479%2C%200.5772800903454636%5D%2C%20%5B47.35030330824426%2C%204.415619096320373%2C%202.0526623539164164%5D%2C%20%5B47.86371440827948%2C%204.799493052255085%2C%201.0223195297134744%5D%2C%20%5B47.49995135047252%2C%206.197073271292885%2C%201.3228084689087933%5D%2C%20%5B47.03784222786426%2C%203.2457844125962714%2C%201.0721018864894531%5D%2C%20%5B48.04192183554541%2C%206.414344597072636%2C%200.11133954676391833%5D%2C%20%5B47.348469312382264%2C%207.23776752281317%2C%201.3898724548348644%5D%2C%20%5B46.21992593015523%2C%207.409422190829851%2C%200.41078099416030023%5D%2C%20%5B47.38554489780423%2C%206.486073746654056%2C%20-0.46348308222133827%5D%2C%20%5B48.18743485954454%2C%205.552510097993272%2C%200.21755018623359834%5D%2C%20%5B47.790658063835586%2C%205.302780333688629%2C%200.8724708391998048%5D%2C%20%5B48.70730467603684%2C%205.469533166643953%2C%200.11908845034311788%5D%2C%20%5B48.016375983547285%2C%206.305858655598936%2C%202.2455017720440384%5D%2C%20%5B48.34414169665834%2C%205.412112091414498%2C%200.7149090803533822%5D%2C%20%5B47.09859614797758%2C%206.193099622642686%2C%200.7443392449958958%5D%2C%20%5B47.460543824837174%2C%205.726962416438338%2C%200.6630826086745274%5D%2C%20%5B49.34611286024877%2C%204.989562175904933%2C%202.0700768596540495%5D%2C%20%5B46.98471429920972%2C%206.137377475058704%2C%201.0735600220653527%5D%2C%20%5B48.048557558623116%2C%204.612749883167994%2C%201.582385486250518%5D%2C%20%5B48.4724907417044%2C%204.613608498051723%2C%200.7604267912508387%5D%2C%20%5B47.23909505737778%2C%205.491248578836578%2C%201.461147476881839%5D%2C%20%5B46.56033509972459%2C%204.434885064258799%2C%201.6480170190307089%5D%2C%20%5B48.742119319245376%2C%204.118010037010815%2C%200.7547687062521012%5D%2C%20%5B47.82791504945972%2C%205.796904455015991%2C%201.407482714318729%5D%2C%20%5B47.80860710626451%2C%207.516260956191813%2C%20-0.08721908419883251%5D%2C%20%5B47.614883347829895%2C%205.161394389340612%2C%201.372363628290187%5D%2C%20%5B49.01059994978437%2C%204.618432226276108%2C%201.235358991373553%5D%2C%20%5B48.51718936360156%2C%204.045229007818087%2C%200.7252611239157647%5D%2C%20%5B49.632923702783074%2C%206.054039663693098%2C%201.9554425136559561%5D%2C%20%5B48.73753689454971%2C%204.49179699197253%2C%20-0.7566149799239459%5D%2C%20%5B47.86570215054153%2C%205.446708582411693%2C%202.0605630442802663%5D%2C%20%5B48.19356296095503%2C%205.2571479667092795%2C%200.6035455024291343%5D%2C%20%5B48.65750216840783%2C%203.627828553013046%2C%200.9715555006033629%5D%2C%20%5B47.838339690089654%2C%204.650280553141353%2C%20-0.8297580905377133%5D%2C%20%5B48.79866292668616%2C%204.565973495457988%2C%200.7598363326944579%5D%2C%20%5B46.887809787947965%2C%204.538616037010587%2C%201.1002040708077179%5D%2C%20%5B48.58295469706451%2C%204.021304392132524%2C%20-0.568143010139079%5D%2C%20%5B47.174992581461794%2C%205.228738369590331%2C%201.5010591596959566%5D%2C%20%5B48.15380599685456%2C%204.975264942531374%2C%202.9570278405417865%5D%2C%20%5B46.14908534889602%2C%206.151841627057548%2C%201.3688020084722567%5D%2C%20%5B47.690052784647534%2C%205.886913318662372%2C%201.8794053933602335%5D%2C%20%5B48.86434085594269%2C%205.810220252304277%2C%200.38921134547018554%5D%2C%20%5B45.74049299997901%2C%206.923862283535266%2C%200.5503298004044206%5D%2C%20%5B47.06211631641188%2C%207.5420917520135475%2C%202.6048239625800553%5D%2C%20%5B48.857411887295896%2C%206.866936566557635%2C%201.9509320622904431%5D%2C%20%5B50.065917881548316%2C%204.868674305094037%2C%200.1304247315634942%5D%2C%20%5B47.299083461803235%2C%203.707886248595548%2C%203.913361829033157%5D%2C%20%5B46.99229208871208%2C%205.356854049493043%2C%200.9070543514746269%5D%2C%20%5B47.70239982071788%2C%204.439718429669441%2C%202.8554378789901227%5D%2C%20%5B49.13874883916156%2C%205.194061498007099%2C%200.48353586316896824%5D%2C%20%5B48.24224227362625%2C%205.800184108171776%2C%200.8856734712751703%5D%2C%20%5B46.69241549549031%2C%204.741124579848788%2C%200.723893654552772%5D%2C%20%5B47.99017663434237%2C%205.179981549734871%2C%20-0.2773132689619575%5D%2C%20%5B48.21806346356067%2C%206.481691787805001%2C%200.7188481795231989%5D%2C%20%5B46.997486849982884%2C%205.008651012596587%2C%200.043825673135228005%5D%2C%20%5B48.784323775822195%2C%204.503371283808778%2C%201.1161152500770377%5D%2C%20%5B48.89932676822567%2C%207.157478316207814%2C%200.6221624538060593%5D%2C%20%5B47.72658780652656%2C%203.9553940224963435%2C%200.327796370199678%5D%2C%20%5B48.15730360551282%2C%204.279034603274121%2C%201.1411766914965216%5D%2C%20%5B48.315498833043904%2C%205.591264288038731%2C%20-0.05705355035439563%5D%2C%20%5B48.31607766079068%2C%203.5408493879797436%2C%20-0.29967150578786783%5D%2C%20%5B49.201057636389464%2C%205.102753372503012%2C%201.252572950126393%5D%2C%20%5B47.83205978451602%2C%204.892205465620726%2C%200.3848836934330768%5D%2C%20%5B48.25727007031744%2C%205.646092707636646%2C%202.213399397752119%5D%2C%20%5B48.00618221237669%2C%204.721788575931478%2C%202.709082976277455%5D%2C%20%5B47.27691439188658%2C%205.086522761698093%2C%200.1588958653035275%5D%2C%20%5B49.80863372383437%2C%204.7789878670877135%2C%201.472730372999278%5D%2C%20%5B49.010834154151105%2C%205.634038820032139%2C%200.9627287973087533%5D%2C%20%5B48.65461558747498%2C%206.209862246361384%2C%200.6565624782933428%5D%2C%20%5B48.71604873380248%2C%208.036308323818195%2C%20-0.26965329668334914%5D%2C%20%5B47.423138396763356%2C%205.172816750821213%2C%200.6070880465112196%5D%2C%20%5B48.14238083115135%2C%204.999583582332006%2C%200.8842569842877938%5D%2C%20%5B47.463006170561314%2C%207.0617655563192265%2C%200.9066170082283334%5D%2C%20%5B47.0693816960307%2C%203.854856530793447%2C%201.9797182907158324%5D%2C%20%5B47.91651271111454%2C%205.062658864901453%2C%201.7949447605809437%5D%2C%20%5B49.95354030588263%2C%204.119213062152818%2C%20-0.09719429435248661%5D%2C%20%5B47.77685006118964%2C%204.2068965985432225%2C%200.7707025376003247%5D%2C%20%5B48.11185386594459%2C%204.891252502846423%2C%201.72960535750836%5D%2C%20%5B46.761965387614374%2C%205.429528587446538%2C%200.48062246203646397%5D%2C%20%5B48.59871779819852%2C%205.774760539868266%2C%200.998249994505554%5D%2C%20%5B48.411769776684814%2C%205.850317499627396%2C%200.9573283812270944%5D%2C%20%5B48.26232486766425%2C%207.865316380013217%2C%200.7983176113718391%5D%2C%20%5B46.58931738986588%2C%204.941083035898289%2C%202.2247166057349217%5D%2C%20%5B46.67106974555747%2C%204.336658819811283%2C%200.09484493947286232%5D%2C%20%5B47.39509787433284%2C%202.806701875248156%2C%201.6437949522714015%5D%5D%2C%0A%20%20%20%20%20%20%20%20%20%20%20%20%20%20%20%20%7B%22blur%22%3A%2015%2C%20%22maxZoom%22%3A%2018%2C%20%22minOpacity%22%3A%200.5%2C%20%22radius%22%3A%2025%7D%0A%20%20%20%20%20%20%20%20%20%20%20%20%29.addTo%28map_3ac63b1e0b594806bc9d920351152dc1%29%3B%0A%20%20%20%20%20%20%20%20%0A%3C/script%3E onload=\"this.contentDocument.open();this.contentDocument.write(    decodeURIComponent(this.getAttribute('data-html')));this.contentDocument.close();\" allowfullscreen webkitallowfullscreen mozallowfullscreen></iframe></div></div>"
      ],
      "text/plain": [
       "<folium.folium.Map at 0x7fd38594c150>"
      ]
     },
     "execution_count": 132,
     "metadata": {},
     "output_type": "execute_result"
    }
   ],
   "source": [
    "m=folium.Map([48,5],tiles='stamentoner',zoom_start=6)\n",
    "HeatMap(data).add_to(m)\n",
    "m "
   ]
  },
  {
   "cell_type": "markdown",
   "metadata": {
    "ExecuteTime": {
     "end_time": "2021-04-12T14:15:17.055107Z",
     "start_time": "2021-04-12T14:15:17.043206Z"
    }
   },
   "source": [
    "folium的其他使用可以参考知乎的这篇文章，较为全面。  \n",
    "https://www.zhihu.com/question/33783546"
   ]
  },
  {
   "cell_type": "markdown",
   "metadata": {},
   "source": [
    "## Kepler.gl  \n",
    "\n",
    "[kepler.gl基础教程](https://sspai.com/post/55655)\n",
    "\n",
    "[Python各坐标系之间的转换(高斯、WGS84、Web墨卡托、瓦片坐标)](https://blog.csdn.net/u010410697/article/details/106987747?utm_medium=distribute.pc_relevant.none-task-blog-2%7Edefault%7EBlogCommendFromMachineLearnPai2%7Edefault-4.control&dist_request_id=1331302.7854.16182775454210789&depth_1-utm_source=distribute.pc_relevant.none-task-blog-2%7Edefault%7EBlogCommendFromMachineLearnPai2%7Edefault-4.control)"
   ]
  },
  {
   "cell_type": "markdown",
   "metadata": {},
   "source": [
    "Kepler.gl与folium类似，也是是一个图形化的数据可视化工具，基于Uber的大数据可视化开源项目deck.gl创建的demo app。目前支持3种数据格式：CSV、JSON、GeoJSON。\n",
    "\n",
    "Kepler.gl官网提供了可视化图形案例，分别是Arc（弧）、Line（线）、Hexagon（六边形）、Point（点）、Heatmap（等高线图）、GeoJSON、Buildings（建筑）。"
   ]
  },
  {
   "cell_type": "code",
   "execution_count": 134,
   "metadata": {
    "ExecuteTime": {
     "end_time": "2021-04-12T14:16:04.779281Z",
     "start_time": "2021-04-12T14:16:04.689681Z"
    }
   },
   "outputs": [],
   "source": [
    "import pandas as pd \n",
    "import geopandas as gpd\n",
    "from pyproj import Proj \n",
    "from keplergl import KeplerGl\n",
    "from tqdm import tqdm\n",
    "import os \n",
    "import matplotlib.pyplot as plt\n",
    "import shapely\n",
    "import numpy as np\n",
    "from datetime import datetime  \n",
    "import warnings\n",
    "warnings.filterwarnings('ignore')\n",
    "plt.rcParams['font.sans-serif'] = ['kaiti']    # 指定默认字体为新宋体。\n",
    "plt.rcParams['axes.unicode_minus'] = False      # 解决保存图像时 负号'-' 显示为方块和报错的问题。"
   ]
  },
  {
   "cell_type": "code",
   "execution_count": 135,
   "metadata": {
    "ExecuteTime": {
     "end_time": "2021-04-12T14:16:15.142800Z",
     "start_time": "2021-04-12T14:16:15.099967Z"
    }
   },
   "outputs": [],
   "source": [
    "#获取文件夹中的数据\n",
    "def get_data(file_path,model):\n",
    "    assert model in ['train', 'test'], '{} Not Support this type of file'.format(model)\n",
    "    paths = os.listdir(file_path)\n",
    "    print(len(paths))\n",
    "    tmp = []\n",
    "    for t in  tqdm(range(len(paths))):\n",
    "        p = paths[t]\n",
    "        with open('{}/{}'.format(file_path, p), encoding='utf-8') as f:\n",
    "            next(f)\n",
    "            for line in f.readlines():\n",
    "                tmp.append(line.strip().split(','))\n",
    "    tmp_df = pd.DataFrame(tmp)\n",
    "    if model == 'train':\n",
    "        tmp_df.columns = ['ID', 'lat', 'lon', 'speed', 'direction', 'time', 'type']\n",
    "    else:\n",
    "        tmp_df['type'] = 'unknown'\n",
    "        tmp_df.columns = ['ID', 'lat', 'lon', 'speed', 'direction', 'time', 'type']\n",
    "    tmp_df['lat'] = tmp_df['lat'].astype(float)\n",
    "    tmp_df['lon'] = tmp_df['lon'].astype(float)\n",
    "    tmp_df['speed'] = tmp_df['speed'].astype(float)\n",
    "    tmp_df['direction'] = tmp_df['direction'].astype(float)\n",
    "    tmp_df = tmp_df.convert_dtypes()\n",
    "#     tmp_df['direction'] = tmp_df['direction'].astype(int)#如果该行代码运行失败，请尝试更新pandas的版本\n",
    "    return tmp_df\n",
    "# 平面坐标转经纬度，供初赛数据使用\n",
    "# 选择标准为NAD83 / California zone 6 (ftUS) (EPSG:2230)，查询链接：https://mygeodata.cloud/cs2cs/\n",
    "def transform_xy2lonlat(df):\n",
    "    '''\n",
    "    format ='+proj=lcc +lat_0=0 +lon_0=117 +k=1+z_0=500000 +y_0=0 +ellps=VGS84 +units=m +no_defs' \n",
    "    +proj= name:这是经常必选的一个地图投影转换函数。Name是一个投影名称\n",
    "    +lon 0=c:设置中央经线。通常和+lat_0,一起决定投影的地理起点\n",
    "    +lat O=d:设置纬度起点。通常和+lon_0,一起决定投影的地理起点\n",
    "    +k:比例系数(比例因子)\n",
    "    +x_0=x0:设置假东，例如在gauss - kruge中，东偏500000米。主要用来保持坐标的非负\n",
    "    +y_0=y0:设置假北，主要用来保持坐标非负\n",
    "    +ellps=acronym:选择一个proj里的椭球体。Acronym为椭球体名\n",
    "    +units=name:设置地图坐标的单位\n",
    "    +no defs:不要使用proj库中的缺省定义文件\n",
    "    '''\n",
    "    format_ = '+proj=lcc +lat_1=33.88333333333333 +lat_2=32.78333333333333 +lat_0=32.16666666666666 +lon_0=-116.25 +x_0=2000000.0001016 +y_0=500000.0001016001 +datum=NAD83 +units=us-ft +no_defs '\n",
    "    x = df['lat'].values\n",
    "    y = df['lon'].values\n",
    "    p=Proj(format_)\n",
    "    df['lon'], df['lat'] = p(y, x, inverse=True)\n",
    "    return df  \n",
    "\n",
    "#修改数据的时间格式\n",
    "def reformat_strtime(time_str=None, START_YEAR=\"2019\"):\n",
    "    \"\"\"Reformat the strtime with the form '08 14' to 'START_YEAR-08-14' \"\"\"\n",
    "    time_str_split = time_str.split(\" \")\n",
    "    time_str_reformat = START_YEAR + \"-\" + time_str_split[0][:2] + \"-\" + time_str_split[0][2:4]\n",
    "    time_str_reformat = time_str_reformat + \" \" + time_str_split[1]\n",
    "#     time_reformat=datetime.strptime(time_str_reformat,'%Y-%m-%d %H:%M:%S')\n",
    "    return time_str_reformat\n",
    "#计算两个点的距离\n",
    "def haversine_np(lon1, lat1, lon2, lat2):\n",
    "    lon1, lat1, lon2, lat2 = map(np.radians, [lon1, lat1, lon2, lat2])\n",
    "    dlon = lon2 - lon1\n",
    "    dlat = lat2 - lat1\n",
    "\n",
    "    a = np.sin(dlat/2.0)**2 + np.cos(lat1) * np.cos(lat2) * np.sin(dlon/2.0)**2\n",
    "\n",
    "    c = 2 * np.arcsin(np.sqrt(a))\n",
    "    km = 6367 * c\n",
    "    return km * 1000\n",
    "\n",
    "def compute_traj_diff_time_distance(traj=None):\n",
    "    \"\"\"Compute the sampling time and the coordinate distance.\"\"\"\n",
    "    # 计算时间的差值\n",
    "    time_diff_array = (traj[\"time\"].iloc[1:].reset_index(drop=True) - traj[\n",
    "        \"time\"].iloc[:-1].reset_index(drop=True)).dt.total_seconds() / 60\n",
    "\n",
    "    # 计算坐标之间的距离\n",
    "    dist_diff_array = haversine_np(traj[\"lon\"].values[1:],  # lon_0\n",
    "                                   traj[\"lat\"].values[1:],  # lat_0\n",
    "                                   traj[\"lon\"].values[:-1], # lon_1\n",
    "                                   traj[\"lat\"].values[:-1]  # lat_1\n",
    "                                   )\n",
    "\n",
    "    # 填充第一个值\n",
    "    time_diff_array = [time_diff_array.mean()] + time_diff_array.tolist()\n",
    "    dist_diff_array = [dist_diff_array.mean()] + dist_diff_array.tolist()\n",
    "    traj.loc[list(traj.index),'time_array'] = time_diff_array\n",
    "    traj.loc[list(traj.index),'dist_array'] = dist_diff_array\n",
    "    return traj \n",
    "\n",
    "#对轨迹进行异常点的剔除\n",
    "def assign_traj_anomaly_points_nan(traj=None, speed_maximum=23,\n",
    "                                   time_interval_maximum=200,\n",
    "                                   coord_speed_maximum=700):\n",
    "    \"\"\"Assign the anomaly points in traj to np.nan.\"\"\"\n",
    "    def thigma_data(data_y,n): \n",
    "        data_x =[i for i in range(len(data_y))]\n",
    "        ymean = np.mean(data_y)\n",
    "        ystd = np.std(data_y)\n",
    "        threshold1 = ymean - n * ystd\n",
    "        threshold2 = ymean + n * ystd\n",
    "        judge=[]\n",
    "        for data in data_y:\n",
    "            if (data < threshold1)|(data> threshold2):\n",
    "                judge.append(True)\n",
    "            else:\n",
    "                judge.append(False)\n",
    "        return judge\n",
    "    # Step 1: The speed anomaly repairing\n",
    "    is_speed_anomaly = (traj[\"speed\"] > speed_maximum) | (traj[\"speed\"] < 0)\n",
    "    traj[\"speed\"][is_speed_anomaly] = np.nan\n",
    "\n",
    "    # Step 2: 根据距离和时间计算速度\n",
    "    is_anomaly = np.array([False] * len(traj))\n",
    "    traj[\"coord_speed\"] = traj[\"dist_array\"] / traj[\"time_array\"]\n",
    "    \n",
    "    # Condition 1: 根据3-sigma算法剔除coord speed以及较大时间间隔的点\n",
    "    is_anomaly_tmp = pd.Series(thigma_data(traj[\"time_array\"],3)) | pd.Series(thigma_data(traj[\"coord_speed\"],3))\n",
    "    is_anomaly = is_anomaly | is_anomaly_tmp\n",
    "    is_anomaly.index=traj.index\n",
    "    # Condition 2: 轨迹点的3-sigma异常处理\n",
    "    traj = traj[~is_anomaly].reset_index(drop=True)\n",
    "    is_anomaly = np.array([False] * len(traj))\n",
    "\n",
    "    if len(traj) != 0:\n",
    "        lon_std, lon_mean = traj[\"lon\"].std(), traj[\"lon\"].mean()\n",
    "        lat_std, lat_mean = traj[\"lat\"].std(), traj[\"lat\"].mean()\n",
    "        lon_low, lon_high = lon_mean - 3 * lon_std, lon_mean + 3 * lon_std\n",
    "        lat_low, lat_high = lat_mean - 3 * lat_std, lat_mean + 3 * lat_std\n",
    "\n",
    "        is_anomaly = is_anomaly | (traj[\"lon\"] > lon_high) | ((traj[\"lon\"] < lon_low))\n",
    "        is_anomaly = is_anomaly | (traj[\"lat\"] > lat_high) | ((traj[\"lat\"] < lat_low))\n",
    "        traj = traj[~is_anomaly].reset_index(drop=True)\n",
    "    return traj, [len(is_speed_anomaly) - len(traj)]"
   ]
  },
  {
   "cell_type": "code",
   "execution_count": 136,
   "metadata": {
    "ExecuteTime": {
     "end_time": "2021-04-12T14:17:17.380051Z",
     "start_time": "2021-04-12T14:16:28.396603Z"
    }
   },
   "outputs": [
    {
     "name": "stderr",
     "output_type": "stream",
     "text": [
      "\r",
      "  0%|          | 0/7000 [00:00<?, ?it/s]"
     ]
    },
    {
     "name": "stdout",
     "output_type": "stream",
     "text": [
      "7000\n"
     ]
    },
    {
     "name": "stderr",
     "output_type": "stream",
     "text": [
      "100%|██████████| 7000/7000 [00:30<00:00, 231.31it/s]\n"
     ]
    }
   ],
   "source": [
    "df=get_data(r'./data/hy_round1_train_20200102/','train')"
   ]
  },
  {
   "cell_type": "code",
   "execution_count": 137,
   "metadata": {
    "ExecuteTime": {
     "end_time": "2021-04-12T14:18:14.531840Z",
     "start_time": "2021-04-12T14:17:17.742056Z"
    }
   },
   "outputs": [],
   "source": [
    "df=transform_xy2lonlat(df)\n",
    "df['time']=df['time'].apply(reformat_strtime)\n",
    "df['time']=df['time'].apply(lambda x: datetime.strptime(x,'%Y-%m-%d %H:%M:%S'))"
   ]
  },
  {
   "cell_type": "code",
   "execution_count": 270,
   "metadata": {
    "ExecuteTime": {
     "end_time": "2021-04-13T02:49:00.368185Z",
     "start_time": "2021-04-13T02:48:52.245332Z"
    }
   },
   "outputs": [
    {
     "data": {
      "text/html": [
       "<div>\n",
       "<style scoped>\n",
       "    .dataframe tbody tr th:only-of-type {\n",
       "        vertical-align: middle;\n",
       "    }\n",
       "\n",
       "    .dataframe tbody tr th {\n",
       "        vertical-align: top;\n",
       "    }\n",
       "\n",
       "    .dataframe thead th {\n",
       "        text-align: right;\n",
       "    }\n",
       "</style>\n",
       "<table border=\"1\" class=\"dataframe\">\n",
       "  <thead>\n",
       "    <tr style=\"text-align: right;\">\n",
       "      <th></th>\n",
       "      <th>Unnamed: 0</th>\n",
       "      <th>ID</th>\n",
       "      <th>lat</th>\n",
       "      <th>lon</th>\n",
       "      <th>speed</th>\n",
       "      <th>direction</th>\n",
       "      <th>time</th>\n",
       "      <th>type</th>\n",
       "      <th>time_array</th>\n",
       "      <th>dist_array</th>\n",
       "      <th>coord_speed</th>\n",
       "    </tr>\n",
       "  </thead>\n",
       "  <tbody>\n",
       "    <tr>\n",
       "      <th>0</th>\n",
       "      <td>0</td>\n",
       "      <td>4924</td>\n",
       "      <td>44.878993</td>\n",
       "      <td>-121.048498</td>\n",
       "      <td>0.38</td>\n",
       "      <td>103</td>\n",
       "      <td>2019-11-13 23:59:30</td>\n",
       "      <td>围网</td>\n",
       "      <td>-1.088487</td>\n",
       "      <td>19.788529</td>\n",
       "      <td>-18.179848</td>\n",
       "    </tr>\n",
       "    <tr>\n",
       "      <th>1</th>\n",
       "      <td>1</td>\n",
       "      <td>4924</td>\n",
       "      <td>44.878993</td>\n",
       "      <td>-121.048498</td>\n",
       "      <td>0.05</td>\n",
       "      <td>0</td>\n",
       "      <td>2019-11-13 23:58:27</td>\n",
       "      <td>围网</td>\n",
       "      <td>-1.050000</td>\n",
       "      <td>0.000000</td>\n",
       "      <td>-0.000000</td>\n",
       "    </tr>\n",
       "    <tr>\n",
       "      <th>2</th>\n",
       "      <td>2</td>\n",
       "      <td>4924</td>\n",
       "      <td>44.878993</td>\n",
       "      <td>-121.048498</td>\n",
       "      <td>0.00</td>\n",
       "      <td>0</td>\n",
       "      <td>2019-11-13 23:57:24</td>\n",
       "      <td>围网</td>\n",
       "      <td>-1.050000</td>\n",
       "      <td>0.000000</td>\n",
       "      <td>-0.000000</td>\n",
       "    </tr>\n",
       "    <tr>\n",
       "      <th>3</th>\n",
       "      <td>3</td>\n",
       "      <td>4924</td>\n",
       "      <td>44.878993</td>\n",
       "      <td>-121.048498</td>\n",
       "      <td>0.05</td>\n",
       "      <td>0</td>\n",
       "      <td>2019-11-13 23:56:20</td>\n",
       "      <td>围网</td>\n",
       "      <td>-1.066667</td>\n",
       "      <td>0.000000</td>\n",
       "      <td>-0.000000</td>\n",
       "    </tr>\n",
       "    <tr>\n",
       "      <th>4</th>\n",
       "      <td>4</td>\n",
       "      <td>4924</td>\n",
       "      <td>44.878993</td>\n",
       "      <td>-121.048498</td>\n",
       "      <td>0.05</td>\n",
       "      <td>0</td>\n",
       "      <td>2019-11-13 23:55:17</td>\n",
       "      <td>围网</td>\n",
       "      <td>-1.050000</td>\n",
       "      <td>0.000000</td>\n",
       "      <td>-0.000000</td>\n",
       "    </tr>\n",
       "    <tr>\n",
       "      <th>5</th>\n",
       "      <td>5</td>\n",
       "      <td>4924</td>\n",
       "      <td>44.878993</td>\n",
       "      <td>-121.048498</td>\n",
       "      <td>0.38</td>\n",
       "      <td>55</td>\n",
       "      <td>2019-11-13 23:54:14</td>\n",
       "      <td>围网</td>\n",
       "      <td>-1.050000</td>\n",
       "      <td>0.000000</td>\n",
       "      <td>-0.000000</td>\n",
       "    </tr>\n",
       "    <tr>\n",
       "      <th>6</th>\n",
       "      <td>6</td>\n",
       "      <td>4924</td>\n",
       "      <td>44.878993</td>\n",
       "      <td>-121.048498</td>\n",
       "      <td>0.05</td>\n",
       "      <td>0</td>\n",
       "      <td>2019-11-13 23:53:11</td>\n",
       "      <td>围网</td>\n",
       "      <td>-1.050000</td>\n",
       "      <td>0.000000</td>\n",
       "      <td>-0.000000</td>\n",
       "    </tr>\n",
       "    <tr>\n",
       "      <th>7</th>\n",
       "      <td>7</td>\n",
       "      <td>4924</td>\n",
       "      <td>44.878993</td>\n",
       "      <td>-121.048498</td>\n",
       "      <td>0.16</td>\n",
       "      <td>0</td>\n",
       "      <td>2019-11-13 23:52:07</td>\n",
       "      <td>围网</td>\n",
       "      <td>-1.066667</td>\n",
       "      <td>0.000000</td>\n",
       "      <td>-0.000000</td>\n",
       "    </tr>\n",
       "    <tr>\n",
       "      <th>8</th>\n",
       "      <td>8</td>\n",
       "      <td>4924</td>\n",
       "      <td>44.878993</td>\n",
       "      <td>-121.048498</td>\n",
       "      <td>0.16</td>\n",
       "      <td>0</td>\n",
       "      <td>2019-11-13 23:51:04</td>\n",
       "      <td>围网</td>\n",
       "      <td>-1.050000</td>\n",
       "      <td>0.000000</td>\n",
       "      <td>-0.000000</td>\n",
       "    </tr>\n",
       "    <tr>\n",
       "      <th>9</th>\n",
       "      <td>9</td>\n",
       "      <td>4924</td>\n",
       "      <td>44.878993</td>\n",
       "      <td>-121.048498</td>\n",
       "      <td>0.27</td>\n",
       "      <td>322</td>\n",
       "      <td>2019-11-13 23:50:01</td>\n",
       "      <td>围网</td>\n",
       "      <td>-1.050000</td>\n",
       "      <td>0.000000</td>\n",
       "      <td>-0.000000</td>\n",
       "    </tr>\n",
       "  </tbody>\n",
       "</table>\n",
       "</div>"
      ],
      "text/plain": [
       "   Unnamed: 0    ID        lat         lon  speed  direction  \\\n",
       "0           0  4924  44.878993 -121.048498   0.38        103   \n",
       "1           1  4924  44.878993 -121.048498   0.05          0   \n",
       "2           2  4924  44.878993 -121.048498   0.00          0   \n",
       "3           3  4924  44.878993 -121.048498   0.05          0   \n",
       "4           4  4924  44.878993 -121.048498   0.05          0   \n",
       "5           5  4924  44.878993 -121.048498   0.38         55   \n",
       "6           6  4924  44.878993 -121.048498   0.05          0   \n",
       "7           7  4924  44.878993 -121.048498   0.16          0   \n",
       "8           8  4924  44.878993 -121.048498   0.16          0   \n",
       "9           9  4924  44.878993 -121.048498   0.27        322   \n",
       "\n",
       "                  time type  time_array  dist_array  coord_speed  \n",
       "0  2019-11-13 23:59:30   围网   -1.088487   19.788529   -18.179848  \n",
       "1  2019-11-13 23:58:27   围网   -1.050000    0.000000    -0.000000  \n",
       "2  2019-11-13 23:57:24   围网   -1.050000    0.000000    -0.000000  \n",
       "3  2019-11-13 23:56:20   围网   -1.066667    0.000000    -0.000000  \n",
       "4  2019-11-13 23:55:17   围网   -1.050000    0.000000    -0.000000  \n",
       "5  2019-11-13 23:54:14   围网   -1.050000    0.000000    -0.000000  \n",
       "6  2019-11-13 23:53:11   围网   -1.050000    0.000000    -0.000000  \n",
       "7  2019-11-13 23:52:07   围网   -1.066667    0.000000    -0.000000  \n",
       "8  2019-11-13 23:51:04   围网   -1.050000    0.000000    -0.000000  \n",
       "9  2019-11-13 23:50:01   围网   -1.050000    0.000000    -0.000000  "
      ]
     },
     "execution_count": 270,
     "metadata": {},
     "output_type": "execute_result"
    }
   ],
   "source": [
    "#读取github的数据\n",
    "DF=pd.read_csv('./data/DF.csv')\n",
    "\n",
    "DF[:10]"
   ]
  },
  {
   "cell_type": "code",
   "execution_count": 216,
   "metadata": {
    "ExecuteTime": {
     "end_time": "2021-04-13T01:34:30.844551Z",
     "start_time": "2021-04-13T01:34:24.783701Z"
    }
   },
   "outputs": [
    {
     "name": "stdout",
     "output_type": "stream",
     "text": [
      "化简前数据长度：402\n",
      "化简后数据长度：49\n"
     ]
    },
    {
     "data": {
      "image/png": "[encoded data removed]",
      "text/plain": [
       "<Figure size 432x288 with 1 Axes>"
      ]
     },
     "metadata": {
      "needs_background": "light"
     },
     "output_type": "display_data"
    }
   ],
   "source": [
    "#douglas-peucker案例，由该案例可以看出针对相同ID的轨迹，可以先用geopandas将其进行简化和数据压缩\n",
    "line= shapely.geometry.LineString(np.array(df[df['ID']=='14'][['lon','lat']]))\n",
    "ax=gpd.GeoSeries([line]).plot(color='red')\n",
    "ax = gpd.GeoSeries([line]).simplify(tolerance=0.000000001).plot(color='blue', \n",
    "                                                        ax=ax,\n",
    "                                                        linestyle='--')\n",
    "LegendElement = [plt.Line2D([], [], color='red', label='简化前'),\n",
    "                 plt.Line2D([], [], color='blue', linestyle='--', label='简化后')]\n",
    "\n",
    "# 将制作好的图例映射对象列表导入legend()中，并配置相关参数\n",
    "ax.legend(handles = LegendElement, \n",
    "          loc='upper left', \n",
    "          fontsize=10)\n",
    "# ax.set_ylim((-2.1, 1))\n",
    "# ax.axis('off')\n",
    "print('化简前数据长度：'+str(len(np.array(gpd.GeoSeries([line])[0]))))\n",
    "print('化简后数据长度：'+str(len(np.array(gpd.GeoSeries([line]).simplify(tolerance=0.000000001)[0]))))"
   ]
  },
  {
   "cell_type": "code",
   "execution_count": 140,
   "metadata": {
    "ExecuteTime": {
     "end_time": "2021-04-12T14:18:58.499342Z",
     "start_time": "2021-04-12T14:18:58.074302Z"
    }
   },
   "outputs": [],
   "source": [
    "#定义数据简化函数。即通过shapely库将经纬度转换成LineString格式\n",
    "#然后放入GeoSeries数据结构中并进行简化，最后再将所有数据放入GeoDataFrame中\n",
    "# df_gpd_change.pkl是将异常处理之后的数据进行douglas-peucker算法进行压缩之后的数据。该数据已经放到了github上面给出的附件数据里面\n",
    "df_gpd_change=pd.read_csv('./data/df_gpd_change.csv')"
   ]
  },
  {
   "cell_type": "code",
   "execution_count": 153,
   "metadata": {
    "ExecuteTime": {
     "end_time": "2021-04-12T14:49:04.774708Z",
     "start_time": "2021-04-12T14:49:02.515477Z"
    },
    "scrolled": false
   },
   "outputs": [
    {
     "name": "stdout",
     "output_type": "stream",
     "text": [
      "User Guide: https://docs.kepler.gl/docs/keplergl-jupyter\n"
     ]
    },
    {
     "data": {
      "application/vnd.jupyter.widget-view+json": {
       "model_id": "24b5cc0ee5824b939e85c858dd53ffba",
       "version_major": 2,
       "version_minor": 0
      },
      "text/plain": [
       "KeplerGl(data={'data_1':         ID type                                           geometry\n",
       "0        0   拖网  L…"
      ]
     },
     "metadata": {},
     "output_type": "display_data"
    }
   ],
   "source": [
    "from keplergl import KeplerGl\n",
    "map_2 = KeplerGl(height=400, data={\"data_1\": df_gpd_change})\n",
    "map_2"
   ]
  },
  {
   "cell_type": "markdown",
   "metadata": {
    "ExecuteTime": {
     "end_time": "2021-04-12T14:20:04.177108Z",
     "start_time": "2021-04-12T14:20:04.173381Z"
    }
   },
   "source": [
    "通过kepler.gl的数据可视化便可以看出不同类别的轨迹所在的位置有所不同，而且其不同船舶轨迹的形状特征也可以显示出来。\n",
    "\n",
    "算完之后将数据重新化为dataframe格式，然后可以去计算geohash作为每一条船的数据特征\n",
    "\n",
    "另外，kepler.gl最近新增「增量时间窗口」功能功能对时间序列数据的可视化提供了很好的帮助。当我们的数据集带有时间类型字段时，在添加对应的Filters之后，显示出的时间窗口如下图所示"
   ]
  },
  {
   "cell_type": "markdown",
   "metadata": {},
   "source": [
    "## GeoHash"
   ]
  },
  {
   "cell_type": "markdown",
   "metadata": {},
   "source": [
    "参考文献：https://blog.csdn.net/zhufenghao/article/details/85568340\n",
    "\n",
    "https://www.jianshu.com/p/2fd0cf12e5ba"
   ]
  },
  {
   "cell_type": "markdown",
   "metadata": {
    "ExecuteTime": {
     "end_time": "2021-04-12T14:22:17.696187Z",
     "start_time": "2021-04-12T14:22:17.689530Z"
    }
   },
   "source": [
    "在对于经纬度进行数据分析和特征提取时常用到的是GeoHash编码，该编码方式可以将地理经纬度坐标编码为由字母和数字所构成的短字符串，它具有如下特性：\n",
    "\n",
    "层级空间数据结构，将地理位置用矩形网格划分，同一网格内地理编码相同\n",
    "\n",
    "只要编码长度足够长，可以表示任意精度的地理位置坐标\n",
    "\n",
    "编码前缀匹配的越长，地理位置越邻近。\n",
    "\n",
    "那么GeoHash算法是怎么对经纬度坐标进行编码的呢？\n",
    "\n",
    "总的来说，它采用的是二分法不断缩小经度和纬度的区间来进行二进制编码，\n",
    "\n",
    "最后将经纬度分别产生的编码奇偶位交叉合并，再用字母数字表示。\n",
    "\n",
    "举例来说，对于一个坐标116.29513,40.04920的经度执行算法：\n",
    "\n",
    "-. 将地球经度区间[-180,180]二分为[-180,0]和[0,180]，116.29513在右区间，记1；\n",
    "-. 将[0,180]二分为[0,90]和[90,180]，116.29513在右区间，记1；\n",
    "-. 将[90,180]二分为[90,135]和[135,180]，116.29513在左区间，记0；\n",
    "-. 递归上述过程（左区间记0，右区间记1）直到所需要的精度，得到一串二进制编码11010 01010 11001。\n",
    "\n",
    "同理将地球纬度区间[-90,90]根据纬度40.04920进行递归二分得到二进制编码10111 00011 11010，\n",
    "\n",
    "接着生成新的二进制数，它的偶数位放经度，奇数位放纬度，得到11100 11101 00100 01101 11110 00110，\n",
    "\n",
    "最后使用32个数字和字母（字母去掉a、i、l、o这4个）进行32进制编码，即先将二进制数每5位转化为十进制28 29 4 13 30 6，然后对应着编码表进行映射得到wy4ey6。"
   ]
  },
  {
   "cell_type": "code",
   "execution_count": 146,
   "metadata": {
    "ExecuteTime": {
     "end_time": "2021-04-12T14:23:57.171714Z",
     "start_time": "2021-04-12T14:23:57.156899Z"
    }
   },
   "outputs": [],
   "source": [
    "# reference: https://github.com/vinsci/geohash\n",
    "def geohash_encode(latitude, longitude, precision=12):\n",
    "    \"\"\"\n",
    "    Encode a position given in float arguments latitude, longitude to\n",
    "    a geohash which will have the character count precision.\n",
    "    \"\"\"\n",
    "    lat_interval, lon_interval = (-90.0, 90.0), (-180.0, 180.0)\n",
    "    base32 = '0123456789bcdefghjkmnpqrstuvwxyz'\n",
    "    geohash = []\n",
    "    bits = [16, 8, 4, 2, 1]\n",
    "    bit = 0\n",
    "    ch = 0\n",
    "    even = True\n",
    "    while len(geohash) < precision:\n",
    "        if even:\n",
    "            mid = (lon_interval[0] + lon_interval[1]) / 2\n",
    "            if longitude > mid:\n",
    "                ch |= bits[bit]\n",
    "                lon_interval = (mid, lon_interval[1])\n",
    "            else:\n",
    "                lon_interval = (lon_interval[0], mid)\n",
    "        else:\n",
    "            mid = (lat_interval[0] + lat_interval[1]) / 2\n",
    "            if latitude > mid:\n",
    "                ch |= bits[bit]\n",
    "                lat_interval = (mid, lat_interval[1])\n",
    "            else:\n",
    "                lat_interval = (lat_interval[0], mid)\n",
    "        even = not even\n",
    "        if bit < 4:\n",
    "            bit += 1\n",
    "        else:\n",
    "            geohash += base32[ch]\n",
    "            bit = 0\n",
    "            ch = 0\n",
    "    return ''.join(geohash)"
   ]
  },
  {
   "cell_type": "code",
   "execution_count": 147,
   "metadata": {
    "ExecuteTime": {
     "end_time": "2021-04-12T14:24:10.200121Z",
     "start_time": "2021-04-12T14:24:10.039876Z"
    }
   },
   "outputs": [
    {
     "data": {
      "text/plain": [
       "1873158    9rc76bv\n",
       "1873159    9rc76cq\n",
       "1873160    9rc76fw\n",
       "1873161    9rc76gn\n",
       "1873162    9rc76gy\n",
       "            ...   \n",
       "1873517    9rc7xnv\n",
       "1873518    9rc7xnv\n",
       "1873519    9rc7xnv\n",
       "1873520    9rc7xnv\n",
       "1873521    9rc7xnv\n",
       "Length: 364, dtype: object"
      ]
     },
     "execution_count": 147,
     "metadata": {},
     "output_type": "execute_result"
    }
   ],
   "source": [
    "#调用Geohash函数\n",
    "DF[DF['ID']==1].apply(lambda x: geohash_encode(x['lat'], x['lon'], 7), axis=1)"
   ]
  },
  {
   "cell_type": "markdown",
   "metadata": {},
   "source": [
    "## 作业"
   ]
  },
  {
   "cell_type": "markdown",
   "metadata": {
    "ExecuteTime": {
     "end_time": "2021-04-12T14:59:30.389638Z",
     "start_time": "2021-04-12T14:59:30.372608Z"
    }
   },
   "source": [
    "基础作业：  \n",
    "1.尝试去使用kepler.gl可视化来分析不同类型船舶AIS数据的分布情况，并为接下来的特征工程的提取建立基础  \n",
    "进阶作业：   \n"
   ]
  },
  {
   "cell_type": "markdown",
   "metadata": {},
   "source": [
    "2.在这个模块中，我们介绍了各种库以及他们常用的方法。如果可以，请同学们尝试在原有剔除异常点的数据（DF）中保留douglas-peucker算法所识别的关键点的数据，删除douglas-peucker未保存的数据，并尝试对这些坐标点进行geohash编码"
   ]
  },
  {
   "cell_type": "code",
   "execution_count": 160,
   "metadata": {
    "ExecuteTime": {
     "end_time": "2021-04-12T14:59:57.962212Z",
     "start_time": "2021-04-12T14:59:46.120352Z"
    }
   },
   "outputs": [],
   "source": [
    "DF=pd.read_csv('./data/DF.csv')#对轨迹进行异常点剔除，对nan值进行线性插值a\n",
    "DF['ID'] = DF['ID'].astype('str')"
   ]
  },
  {
   "cell_type": "code",
   "execution_count": 276,
   "metadata": {
    "ExecuteTime": {
     "end_time": "2021-04-13T04:02:24.133138Z",
     "start_time": "2021-04-13T04:02:21.616002Z"
    },
    "scrolled": true
   },
   "outputs": [
    {
     "data": {
      "text/html": [
       "<div>\n",
       "<style scoped>\n",
       "    .dataframe tbody tr th:only-of-type {\n",
       "        vertical-align: middle;\n",
       "    }\n",
       "\n",
       "    .dataframe tbody tr th {\n",
       "        vertical-align: top;\n",
       "    }\n",
       "\n",
       "    .dataframe thead th {\n",
       "        text-align: right;\n",
       "    }\n",
       "</style>\n",
       "<table border=\"1\" class=\"dataframe\">\n",
       "  <thead>\n",
       "    <tr style=\"text-align: right;\">\n",
       "      <th></th>\n",
       "      <th>aa</th>\n",
       "      <th>lon</th>\n",
       "      <th>lat</th>\n",
       "      <th>ID</th>\n",
       "      <th>geohash</th>\n",
       "    </tr>\n",
       "  </thead>\n",
       "  <tbody>\n",
       "    <tr>\n",
       "      <th>0</th>\n",
       "      <td>[-121.0484981838795, 44.878993087045735]</td>\n",
       "      <td>-121.048498</td>\n",
       "      <td>44.878993</td>\n",
       "      <td>4924</td>\n",
       "      <td>9rczm3z</td>\n",
       "    </tr>\n",
       "    <tr>\n",
       "      <th>1</th>\n",
       "      <td>[-121.03668419055069, 44.905622010300206]</td>\n",
       "      <td>-121.036684</td>\n",
       "      <td>44.905622</td>\n",
       "      <td>4924</td>\n",
       "      <td>9rczmwz</td>\n",
       "    </tr>\n",
       "    <tr>\n",
       "      <th>2</th>\n",
       "      <td>[-121.03632659361841, 44.90644502921925]</td>\n",
       "      <td>-121.036327</td>\n",
       "      <td>44.906445</td>\n",
       "      <td>4924</td>\n",
       "      <td>9rczmyb</td>\n",
       "    </tr>\n",
       "    <tr>\n",
       "      <th>3</th>\n",
       "      <td>[-121.03638249024719, 44.907253831534774]</td>\n",
       "      <td>-121.036382</td>\n",
       "      <td>44.907254</td>\n",
       "      <td>4924</td>\n",
       "      <td>9rczmxp</td>\n",
       "    </tr>\n",
       "    <tr>\n",
       "      <th>4</th>\n",
       "      <td>[-121.03641973636059, 44.90779303235588]</td>\n",
       "      <td>-121.036420</td>\n",
       "      <td>44.907793</td>\n",
       "      <td>4924</td>\n",
       "      <td>9rczmxp</td>\n",
       "    </tr>\n",
       "    <tr>\n",
       "      <th>...</th>\n",
       "      <td>...</td>\n",
       "      <td>...</td>\n",
       "      <td>...</td>\n",
       "      <td>...</td>\n",
       "      <td>...</td>\n",
       "    </tr>\n",
       "    <tr>\n",
       "      <th>4530</th>\n",
       "      <td>[-122.09982639615696, 44.136307525013116]</td>\n",
       "      <td>-122.099826</td>\n",
       "      <td>44.136308</td>\n",
       "      <td>4069</td>\n",
       "      <td>9rc5jdc</td>\n",
       "    </tr>\n",
       "    <tr>\n",
       "      <th>4531</th>\n",
       "      <td>[-122.0997606823429, 44.135756873333264]</td>\n",
       "      <td>-122.099761</td>\n",
       "      <td>44.135757</td>\n",
       "      <td>4069</td>\n",
       "      <td>9rc5jd9</td>\n",
       "    </tr>\n",
       "    <tr>\n",
       "      <th>4532</th>\n",
       "      <td>[-122.09972782007613, 44.13548154766329]</td>\n",
       "      <td>-122.099728</td>\n",
       "      <td>44.135482</td>\n",
       "      <td>4069</td>\n",
       "      <td>9rc5jd9</td>\n",
       "    </tr>\n",
       "    <tr>\n",
       "      <th>4533</th>\n",
       "      <td>[-122.09929028163748, 44.13522852071724]</td>\n",
       "      <td>-122.099290</td>\n",
       "      <td>44.135229</td>\n",
       "      <td>4069</td>\n",
       "      <td>9rc5jdd</td>\n",
       "    </tr>\n",
       "    <tr>\n",
       "      <th>4534</th>\n",
       "      <td>[-122.09922454266224, 44.134677873790075]</td>\n",
       "      <td>-122.099225</td>\n",
       "      <td>44.134678</td>\n",
       "      <td>4069</td>\n",
       "      <td>9rc5jd6</td>\n",
       "    </tr>\n",
       "  </tbody>\n",
       "</table>\n",
       "<p>4535 rows × 5 columns</p>\n",
       "</div>"
      ],
      "text/plain": [
       "                                             aa         lon        lat    ID  \\\n",
       "0      [-121.0484981838795, 44.878993087045735] -121.048498  44.878993  4924   \n",
       "1     [-121.03668419055069, 44.905622010300206] -121.036684  44.905622  4924   \n",
       "2      [-121.03632659361841, 44.90644502921925] -121.036327  44.906445  4924   \n",
       "3     [-121.03638249024719, 44.907253831534774] -121.036382  44.907254  4924   \n",
       "4      [-121.03641973636059, 44.90779303235588] -121.036420  44.907793  4924   \n",
       "...                                         ...         ...        ...   ...   \n",
       "4530  [-122.09982639615696, 44.136307525013116] -122.099826  44.136308  4069   \n",
       "4531   [-122.0997606823429, 44.135756873333264] -122.099761  44.135757  4069   \n",
       "4532   [-122.09972782007613, 44.13548154766329] -122.099728  44.135482  4069   \n",
       "4533   [-122.09929028163748, 44.13522852071724] -122.099290  44.135229  4069   \n",
       "4534  [-122.09922454266224, 44.134677873790075] -122.099225  44.134678  4069   \n",
       "\n",
       "      geohash  \n",
       "0     9rczm3z  \n",
       "1     9rczmwz  \n",
       "2     9rczmyb  \n",
       "3     9rczmxp  \n",
       "4     9rczmxp  \n",
       "...       ...  \n",
       "4530  9rc5jdc  \n",
       "4531  9rc5jd9  \n",
       "4532  9rc5jd9  \n",
       "4533  9rc5jdd  \n",
       "4534  9rc5jd6  \n",
       "\n",
       "[4535 rows x 5 columns]"
      ]
     },
     "execution_count": 276,
     "metadata": {},
     "output_type": "execute_result"
    }
   ],
   "source": [
    "from joblib import Parallel, delayed\n",
    "def get_df_tmp1(DF,ID_tmp):\n",
    "    df_tmp1 = pd.DataFrame() \n",
    "    tmp_ID_lon_lat = np.array(DF[DF['ID']==ID_tmp][['lon','lat']])\n",
    "    tmp_ID_lon_lat_line = shapely.geometry.LineString(tmp_ID_lon_lat)\n",
    "    tmp_ID_lon_lat_line_dp = gpd.GeoSeries(tmp_ID_lon_lat_line).simplify(tolerance=0.000000001)[0]\n",
    "    df_tmp1['aa'] = list(np.array(tmp_ID_lon_lat_line_dp))\n",
    "    df_tmp1['lon'] = df_tmp1['aa'].apply(lambda x:x[0])\n",
    "    df_tmp1['lat'] = df_tmp1['aa'].apply(lambda x:x[1])\n",
    "    df_tmp1['ID'] =ID_tmp\n",
    "    df_tmp1['geohash'] = df_tmp1.apply(lambda x: geohash_encode(x['lat'], x['lon'], 7), axis=1)\n",
    "    return df_tmp1\n",
    "df_tmp1_list = Parallel(n_jobs=1)(delayed(get_df_tmp1)(DF,ID_tmp) for ID_tmp in list(DF['ID'].unique()[:2])) \n",
    "df_tmp1 = pd.concat(df_tmp1_list,axis = 0,ignore_index= True)\n",
    "df_tmp1\n"
   ]
  },
  {
   "cell_type": "markdown",
   "metadata": {},
   "source": []
  },
  {
   "cell_type": "code",
   "execution_count": null,
   "metadata": {},
   "outputs": [],
   "source": []
  }
 ],
 "metadata": {
  "kernelspec": {
   "display_name": "Python 3",
   "language": "python",
   "name": "python3"
  },
  "language_info": {
   "codemirror_mode": {
    "name": "ipython",
    "version": 3
   },
   "file_extension": ".py",
   "mimetype": "text/x-python",
   "name": "python",
   "nbconvert_exporter": "python",
   "pygments_lexer": "ipython3",
   "version": "3.7.6"
  },
  "toc": {
   "base_numbering": 1,
   "nav_menu": {},
   "number_sections": true,
   "sideBar": true,
   "skip_h1_title": false,
   "title_cell": "Table of Contents",
   "title_sidebar": "Contents",
   "toc_cell": false,
   "toc_position": {
    "height": "calc(100% - 180px)",
    "left": "10px",
    "top": "150px",
    "width": "384px"
   },
   "toc_section_display": true,
   "toc_window_display": false
  },
  "varInspector": {
   "cols": {
    "lenName": 16,
    "lenType": 16,
    "lenVar": 40
   },
   "kernels_config": {
    "python": {
     "delete_cmd_postfix": "",
     "delete_cmd_prefix": "del ",
     "library": "var_list.py",
     "varRefreshCmd": "print(var_dic_list())"
    },
    "r": {
     "delete_cmd_postfix": ") ",
     "delete_cmd_prefix": "rm(",
     "library": "var_list.r",
     "varRefreshCmd": "cat(var_dic_list()) "
    }
   },
   "types_to_exclude": [
    "module",
    "function",
    "builtin_function_or_method",
    "instance",
    "_Feature"
   ],
   "window_display": false
  }
 },
 "nbformat": 4,
 "nbformat_minor": 4
}
